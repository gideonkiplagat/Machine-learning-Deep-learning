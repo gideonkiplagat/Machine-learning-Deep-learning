{
 "cells": [
  {
   "cell_type": "code",
   "execution_count": 1,
   "id": "56305de5",
   "metadata": {},
   "outputs": [],
   "source": [
    "import pandas as pd\n",
    "import numpy as np\n",
    "import matplotlib.pyplot as plt\n",
    "%matplotlib inline\n",
    "import matplotlib as mpl\n",
    "import seaborn as sns"
   ]
  },
  {
   "cell_type": "code",
   "execution_count": 2,
   "id": "f65a0e38",
   "metadata": {},
   "outputs": [],
   "source": [
    "import tensorflow as tf\n",
    "from tensorflow import keras"
   ]
  },
  {
   "cell_type": "code",
   "execution_count": 36,
   "id": "f6728d4a",
   "metadata": {},
   "outputs": [],
   "source": [
    "from sklearn.datasets import fetch_california_housing\n",
    "housing=fetch_california_housing()"
   ]
  },
  {
   "cell_type": "code",
   "execution_count": 37,
   "id": "960e91b2",
   "metadata": {},
   "outputs": [
    {
     "name": "stdout",
     "output_type": "stream",
     "text": [
      "['MedInc', 'HouseAge', 'AveRooms', 'AveBedrms', 'Population', 'AveOccup', 'Latitude', 'Longitude']\n"
     ]
    }
   ],
   "source": [
    "print(housing.feature_names)"
   ]
  },
  {
   "cell_type": "code",
   "execution_count": 38,
   "id": "eb290d99",
   "metadata": {},
   "outputs": [],
   "source": [
    "from sklearn.model_selection import train_test_split\n",
    "x_train_full,x_test,y_train_full,y_test=train_test_split(housing.data,housing.data,random_state=42)\n",
    "x_train,x_valid,y_train,y_valid=train_test_split(x_train_full,y_train_full,random_state=42)"
   ]
  },
  {
   "cell_type": "code",
   "execution_count": 39,
   "id": "47bfaef8",
   "metadata": {},
   "outputs": [],
   "source": [
    "from sklearn.preprocessing import StandardScaler\n",
    "scaler=StandardScaler()\n",
    "x_train=scaler.fit_transform(x_train)\n",
    "x_valid=scaler.transform(x_valid)\n",
    "x_test=scaler.transform(x_test)"
   ]
  },
  {
   "cell_type": "code",
   "execution_count": 40,
   "id": "0b0f6115",
   "metadata": {},
   "outputs": [],
   "source": [
    "np.random.seed(42)\n",
    "tf.random.set_seed(42)"
   ]
  },
  {
   "cell_type": "code",
   "execution_count": 41,
   "id": "ef8aa153",
   "metadata": {},
   "outputs": [
    {
     "data": {
      "text/plain": [
       "(11610, 8)"
      ]
     },
     "execution_count": 41,
     "metadata": {},
     "output_type": "execute_result"
    }
   ],
   "source": [
    "x_train.shape"
   ]
  },
  {
   "cell_type": "code",
   "execution_count": 46,
   "id": "98b0cb30",
   "metadata": {},
   "outputs": [],
   "source": [
    "model=keras.models.Sequential([keras.layers.Dense(30,activation='relu',input_shape=[8]), \n",
    "                              keras.layers.Dense(30,activation='relu'), \n",
    "                              keras.layers.Dense(1)])"
   ]
  },
  {
   "cell_type": "code",
   "execution_count": 47,
   "id": "5f329384",
   "metadata": {},
   "outputs": [
    {
     "name": "stdout",
     "output_type": "stream",
     "text": [
      "Model: \"sequential_2\"\n",
      "_________________________________________________________________\n",
      " Layer (type)                Output Shape              Param #   \n",
      "=================================================================\n",
      " dense_9 (Dense)             (None, 30)                270       \n",
      "                                                                 \n",
      " dense_10 (Dense)            (None, 30)                930       \n",
      "                                                                 \n",
      " dense_11 (Dense)            (None, 1)                 31        \n",
      "                                                                 \n",
      "=================================================================\n",
      "Total params: 1,231\n",
      "Trainable params: 1,231\n",
      "Non-trainable params: 0\n",
      "_________________________________________________________________\n"
     ]
    }
   ],
   "source": [
    "model.summary()"
   ]
  },
  {
   "cell_type": "code",
   "execution_count": 48,
   "id": "c8d12b7b",
   "metadata": {},
   "outputs": [],
   "source": [
    "model.compile(loss='mean_squared_error', \n",
    "             optimizer=keras.optimizers.SGD(learning_rate=1e-3),\n",
    "             metrics=['mae'])"
   ]
  },
  {
   "cell_type": "code",
   "execution_count": 49,
   "id": "89c2f912",
   "metadata": {},
   "outputs": [
    {
     "name": "stdout",
     "output_type": "stream",
     "text": [
      "Epoch 1/20\n",
      "363/363 [==============================] - 1s 2ms/step - loss: 393895.8750 - mae: 225.3649 - val_loss: 442733.4062 - val_mae: 251.2422\n",
      "Epoch 2/20\n",
      "363/363 [==============================] - 1s 2ms/step - loss: 379681.2188 - mae: 267.8394 - val_loss: 437054.3750 - val_mae: 284.1517\n",
      "Epoch 3/20\n",
      "363/363 [==============================] - 1s 2ms/step - loss: 376771.5000 - mae: 291.3883 - val_loss: 435687.7188 - val_mae: 300.0126\n",
      "Epoch 4/20\n",
      "363/363 [==============================] - 1s 2ms/step - loss: 376089.0000 - mae: 302.6012 - val_loss: 435343.0312 - val_mae: 307.7696\n",
      "Epoch 5/20\n",
      "363/363 [==============================] - 1s 2ms/step - loss: 375927.5625 - mae: 308.0005 - val_loss: 435251.0000 - val_mae: 311.6240\n",
      "Epoch 6/20\n",
      "363/363 [==============================] - 1s 2ms/step - loss: 375890.5625 - mae: 311.0677 - val_loss: 435227.7188 - val_mae: 313.2506\n",
      "Epoch 7/20\n",
      "363/363 [==============================] - 1s 2ms/step - loss: 375882.3438 - mae: 312.0543 - val_loss: 435218.7500 - val_mae: 314.1625\n",
      "Epoch 8/20\n",
      "363/363 [==============================] - 1s 2ms/step - loss: 375880.1875 - mae: 312.8366 - val_loss: 435216.2188 - val_mae: 314.5173\n",
      "Epoch 9/20\n",
      "363/363 [==============================] - 1s 2ms/step - loss: 375879.7500 - mae: 313.1494 - val_loss: 435215.3125 - val_mae: 314.6593\n",
      "Epoch 10/20\n",
      "363/363 [==============================] - 1s 2ms/step - loss: 375879.5312 - mae: 312.9724 - val_loss: 435213.7500 - val_mae: 314.9116\n",
      "Epoch 11/20\n",
      "363/363 [==============================] - 1s 2ms/step - loss: 375879.7188 - mae: 313.3402 - val_loss: 435213.8125 - val_mae: 314.8940\n",
      "Epoch 12/20\n",
      "363/363 [==============================] - 1s 2ms/step - loss: 375879.5312 - mae: 313.3086 - val_loss: 435213.7188 - val_mae: 314.9063\n",
      "Epoch 13/20\n",
      "363/363 [==============================] - 1s 3ms/step - loss: 375879.5625 - mae: 313.2018 - val_loss: 435213.2188 - val_mae: 314.9970\n",
      "Epoch 14/20\n",
      "363/363 [==============================] - 1s 2ms/step - loss: 375879.6562 - mae: 313.5677 - val_loss: 435214.1562 - val_mae: 314.8195\n",
      "Epoch 15/20\n",
      "363/363 [==============================] - 1s 3ms/step - loss: 375879.2188 - mae: 313.3764 - val_loss: 435214.4688 - val_mae: 314.7770\n",
      "Epoch 16/20\n",
      "363/363 [==============================] - 1s 2ms/step - loss: 375879.5000 - mae: 313.0427 - val_loss: 435213.3750 - val_mae: 314.9800\n",
      "Epoch 17/20\n",
      "363/363 [==============================] - 1s 2ms/step - loss: 375879.5625 - mae: 313.1964 - val_loss: 435212.8438 - val_mae: 315.0808\n",
      "Epoch 18/20\n",
      "363/363 [==============================] - 1s 2ms/step - loss: 375879.4062 - mae: 313.4864 - val_loss: 435213.4375 - val_mae: 314.9727\n",
      "Epoch 19/20\n",
      "363/363 [==============================] - 1s 3ms/step - loss: 375879.3125 - mae: 313.1722 - val_loss: 435212.6875 - val_mae: 315.0976\n",
      "Epoch 20/20\n",
      "363/363 [==============================] - 1s 2ms/step - loss: 375879.6562 - mae: 313.4159 - val_loss: 435213.0000 - val_mae: 315.0351\n"
     ]
    }
   ],
   "source": [
    "model_history=model.fit(x_train,y_train,epochs=20, \n",
    "                       validation_data=(x_valid,y_valid))"
   ]
  },
  {
   "cell_type": "code",
   "execution_count": 50,
   "id": "bf150465",
   "metadata": {},
   "outputs": [
    {
     "name": "stdout",
     "output_type": "stream",
     "text": [
      "162/162 [==============================] - 0s 2ms/step - loss: 375638.8125 - mae: 312.6625\n"
     ]
    }
   ],
   "source": [
    "mae_test=model.evaluate(x_test,y_test)"
   ]
  },
  {
   "cell_type": "code",
   "execution_count": 51,
   "id": "2742906d",
   "metadata": {},
   "outputs": [
    {
     "data": {
      "text/plain": [
       "{'loss': [393895.875,\n",
       "  379681.21875,\n",
       "  376771.5,\n",
       "  376089.0,\n",
       "  375927.5625,\n",
       "  375890.5625,\n",
       "  375882.34375,\n",
       "  375880.1875,\n",
       "  375879.75,\n",
       "  375879.53125,\n",
       "  375879.71875,\n",
       "  375879.53125,\n",
       "  375879.5625,\n",
       "  375879.65625,\n",
       "  375879.21875,\n",
       "  375879.5,\n",
       "  375879.5625,\n",
       "  375879.40625,\n",
       "  375879.3125,\n",
       "  375879.65625],\n",
       " 'mae': [225.36492919921875,\n",
       "  267.8394470214844,\n",
       "  291.3883361816406,\n",
       "  302.6011962890625,\n",
       "  308.0005187988281,\n",
       "  311.0676574707031,\n",
       "  312.0543212890625,\n",
       "  312.8365783691406,\n",
       "  313.1494140625,\n",
       "  312.9723815917969,\n",
       "  313.3402099609375,\n",
       "  313.30859375,\n",
       "  313.20184326171875,\n",
       "  313.56768798828125,\n",
       "  313.3764343261719,\n",
       "  313.04266357421875,\n",
       "  313.19635009765625,\n",
       "  313.4863586425781,\n",
       "  313.1722106933594,\n",
       "  313.4159240722656],\n",
       " 'val_loss': [442733.40625,\n",
       "  437054.375,\n",
       "  435687.71875,\n",
       "  435343.03125,\n",
       "  435251.0,\n",
       "  435227.71875,\n",
       "  435218.75,\n",
       "  435216.21875,\n",
       "  435215.3125,\n",
       "  435213.75,\n",
       "  435213.8125,\n",
       "  435213.71875,\n",
       "  435213.21875,\n",
       "  435214.15625,\n",
       "  435214.46875,\n",
       "  435213.375,\n",
       "  435212.84375,\n",
       "  435213.4375,\n",
       "  435212.6875,\n",
       "  435213.0],\n",
       " 'val_mae': [251.24217224121094,\n",
       "  284.1517333984375,\n",
       "  300.0126037597656,\n",
       "  307.76959228515625,\n",
       "  311.6239929199219,\n",
       "  313.2505798339844,\n",
       "  314.1625061035156,\n",
       "  314.517333984375,\n",
       "  314.6593322753906,\n",
       "  314.9115905761719,\n",
       "  314.8939514160156,\n",
       "  314.9062805175781,\n",
       "  314.99700927734375,\n",
       "  314.8194580078125,\n",
       "  314.77703857421875,\n",
       "  314.98004150390625,\n",
       "  315.080810546875,\n",
       "  314.97265625,\n",
       "  315.0975646972656,\n",
       "  315.03509521484375]}"
      ]
     },
     "execution_count": 51,
     "metadata": {},
     "output_type": "execute_result"
    }
   ],
   "source": [
    "model_history.history"
   ]
  },
  {
   "cell_type": "code",
   "execution_count": 52,
   "id": "c262b7bd",
   "metadata": {},
   "outputs": [
    {
     "data": {
      "image/png": "[encoded data removed]",
      "text/plain": [
       "<Figure size 576x360 with 1 Axes>"
      ]
     },
     "metadata": {
      "needs_background": "light"
     },
     "output_type": "display_data"
    }
   ],
   "source": [
    "pd.DataFrame(model_history.history).plot(figsize=(8,5))\n",
    "plt.grid(True)\n",
    "#plt.gca().set_ylim(0,366)\n",
    "\n",
    "plt.show()"
   ]
  },
  {
   "cell_type": "code",
   "execution_count": 53,
   "id": "6bd89ab7",
   "metadata": {},
   "outputs": [],
   "source": [
    "x_new=x_test[:3]"
   ]
  },
  {
   "cell_type": "code",
   "execution_count": 54,
   "id": "267b9f2a",
   "metadata": {},
   "outputs": [
    {
     "name": "stdout",
     "output_type": "stream",
     "text": [
      "[[172.81892]\n",
      " [172.81892]\n",
      " [172.81892]]\n",
      "[[ 1.68120000e+00  2.50000000e+01  4.19220056e+00  1.02228412e+00\n",
      "   1.39200000e+03  3.87743733e+00  3.60600000e+01 -1.19010000e+02]\n",
      " [ 2.53130000e+00  3.00000000e+01  5.03938356e+00  1.19349315e+00\n",
      "   1.56500000e+03  2.67979452e+00  3.51400000e+01 -1.19460000e+02]\n",
      " [ 3.48010000e+00  5.20000000e+01  3.97715472e+00  1.18587747e+00\n",
      "   1.31000000e+03  1.36033229e+00  3.78000000e+01 -1.22440000e+02]]\n"
     ]
    }
   ],
   "source": [
    "y_pred=model.predict(x_new)\n",
    "print(y_pred)\n",
    "print(y_test[:3])"
   ]
  },
  {
   "cell_type": "markdown",
   "id": "02e19ac7",
   "metadata": {},
   "source": [
    "### Functional API"
   ]
  },
  {
   "cell_type": "code",
   "execution_count": 55,
   "id": "d381e840",
   "metadata": {},
   "outputs": [],
   "source": [
    "del model"
   ]
  },
  {
   "cell_type": "code",
   "execution_count": 56,
   "id": "f9b1f75e",
   "metadata": {},
   "outputs": [],
   "source": [
    "keras.backend.clear_session()# free up resources for our net coding (model)"
   ]
  },
  {
   "cell_type": "code",
   "execution_count": 57,
   "id": "f505dcf8",
   "metadata": {},
   "outputs": [],
   "source": [
    "input_=keras.layers.Input(shape=x_train.shape[1:])\n",
    "hidden1=keras.layers.Dense(30,activation='relu')(input_)\n",
    "hidden2=keras.layers.Dense(30,activation='relu')(hidden1)\n",
    "concat=keras.layers.concatenate([input_,hidden2])\n",
    "output=keras.layers.Dense(1)(concat)\n",
    "model=keras.models.Model(inputs=[input_],outputs=[output])"
   ]
  },
  {
   "cell_type": "code",
   "execution_count": 58,
   "id": "edc69f0c",
   "metadata": {},
   "outputs": [
    {
     "name": "stdout",
     "output_type": "stream",
     "text": [
      "Model: \"model\"\n",
      "__________________________________________________________________________________________________\n",
      " Layer (type)                   Output Shape         Param #     Connected to                     \n",
      "==================================================================================================\n",
      " input_1 (InputLayer)           [(None, 8)]          0           []                               \n",
      "                                                                                                  \n",
      " dense (Dense)                  (None, 30)           270         ['input_1[0][0]']                \n",
      "                                                                                                  \n",
      " dense_1 (Dense)                (None, 30)           930         ['dense[0][0]']                  \n",
      "                                                                                                  \n",
      " concatenate (Concatenate)      (None, 38)           0           ['input_1[0][0]',                \n",
      "                                                                  'dense_1[0][0]']                \n",
      "                                                                                                  \n",
      " dense_2 (Dense)                (None, 1)            39          ['concatenate[0][0]']            \n",
      "                                                                                                  \n",
      "==================================================================================================\n",
      "Total params: 1,239\n",
      "Trainable params: 1,239\n",
      "Non-trainable params: 0\n",
      "__________________________________________________________________________________________________\n"
     ]
    }
   ],
   "source": [
    "model.summary()"
   ]
  },
  {
   "cell_type": "code",
   "execution_count": 59,
   "id": "8d5c6478",
   "metadata": {},
   "outputs": [
    {
     "data": {
      "text/plain": [
       "(11610, 8)"
      ]
     },
     "execution_count": 59,
     "metadata": {},
     "output_type": "execute_result"
    }
   ],
   "source": [
    "y_train.shape"
   ]
  },
  {
   "cell_type": "code",
   "execution_count": 60,
   "id": "cb8a891d",
   "metadata": {},
   "outputs": [],
   "source": [
    "model.compile(loss=\"mean_squared_error\", \n",
    "              optimizer=keras.optimizers.SGD(learning_rate=1e-3),\n",
    "              metrics=[\"mae\"])"
   ]
  },
  {
   "cell_type": "code",
   "execution_count": 61,
   "id": "adae92d6",
   "metadata": {},
   "outputs": [
    {
     "name": "stdout",
     "output_type": "stream",
     "text": [
      "Epoch 1/30\n",
      "182/182 [==============================] - 1s 3ms/step - loss: 392095.4062 - mae: 219.6371 - val_loss: 435110.9375 - val_mae: 228.0151\n",
      "Epoch 2/30\n",
      "182/182 [==============================] - 0s 3ms/step - loss: 407034.5000 - mae: 250.5113 - val_loss: 423619.5625 - val_mae: 251.9246\n",
      "Epoch 3/30\n",
      "182/182 [==============================] - 0s 2ms/step - loss: 366257.2188 - mae: 258.8140 - val_loss: 416913.1875 - val_mae: 271.4178\n",
      "Epoch 4/30\n",
      "182/182 [==============================] - 0s 2ms/step - loss: 361687.0625 - mae: 276.7119 - val_loss: 412596.1250 - val_mae: 295.9197\n",
      "Epoch 5/30\n",
      "182/182 [==============================] - 0s 2ms/step - loss: 359532.2188 - mae: 288.5203 - val_loss: 410962.5000 - val_mae: 293.4125\n",
      "Epoch 6/30\n",
      "182/182 [==============================] - 0s 2ms/step - loss: 358541.6562 - mae: 293.7179 - val_loss: 409622.8438 - val_mae: 300.4352\n",
      "Epoch 7/30\n",
      "182/182 [==============================] - 0s 2ms/step - loss: 357932.5312 - mae: 299.6379 - val_loss: 408803.6250 - val_mae: 305.2989\n",
      "Epoch 8/30\n",
      "182/182 [==============================] - 0s 2ms/step - loss: 357617.7188 - mae: 303.7966 - val_loss: 408249.0938 - val_mae: 308.6338\n",
      "Epoch 9/30\n",
      "182/182 [==============================] - 0s 2ms/step - loss: 357451.5000 - mae: 306.6872 - val_loss: 407925.4375 - val_mae: 310.9467\n",
      "Epoch 10/30\n",
      "182/182 [==============================] - 1s 3ms/step - loss: 357361.8750 - mae: 308.6933 - val_loss: 407733.0312 - val_mae: 312.5441\n",
      "Epoch 11/30\n",
      "182/182 [==============================] - 1s 3ms/step - loss: 357312.9375 - mae: 310.0857 - val_loss: 407597.6875 - val_mae: 313.6354\n",
      "Epoch 12/30\n",
      "182/182 [==============================] - 0s 2ms/step - loss: 357285.6250 - mae: 311.0584 - val_loss: 407524.3750 - val_mae: 314.3960\n",
      "Epoch 13/30\n",
      "182/182 [==============================] - 0s 3ms/step - loss: 357269.9062 - mae: 311.7323 - val_loss: 407474.7812 - val_mae: 314.9178\n",
      "Epoch 14/30\n",
      "182/182 [==============================] - 0s 3ms/step - loss: 357261.0625 - mae: 312.2056 - val_loss: 407443.1250 - val_mae: 315.2767\n",
      "Epoch 15/30\n",
      "182/182 [==============================] - 0s 3ms/step - loss: 357255.7812 - mae: 312.5364 - val_loss: 407423.8750 - val_mae: 315.5235\n",
      "Epoch 16/30\n",
      "182/182 [==============================] - 0s 2ms/step - loss: 357252.5938 - mae: 312.7682 - val_loss: 407411.8438 - val_mae: 315.6926\n",
      "Epoch 17/30\n",
      "182/182 [==============================] - 0s 3ms/step - loss: 357250.7500 - mae: 312.9287 - val_loss: 407404.3750 - val_mae: 315.8093\n",
      "Epoch 18/30\n",
      "182/182 [==============================] - 0s 3ms/step - loss: 357249.3125 - mae: 313.0431 - val_loss: 407399.5938 - val_mae: 315.8893\n",
      "Epoch 19/30\n",
      "182/182 [==============================] - 0s 2ms/step - loss: 357248.7812 - mae: 313.1212 - val_loss: 407396.6875 - val_mae: 315.9462\n",
      "Epoch 20/30\n",
      "182/182 [==============================] - 0s 2ms/step - loss: 357248.2812 - mae: 313.1787 - val_loss: 407394.8125 - val_mae: 315.9846\n",
      "Epoch 21/30\n",
      "182/182 [==============================] - 0s 2ms/step - loss: 357248.0625 - mae: 313.2163 - val_loss: 407393.5312 - val_mae: 316.0111\n",
      "Epoch 22/30\n",
      "182/182 [==============================] - 0s 2ms/step - loss: 357247.9062 - mae: 313.2447 - val_loss: 407392.7500 - val_mae: 316.0291\n",
      "Epoch 23/30\n",
      "182/182 [==============================] - 0s 3ms/step - loss: 357247.6250 - mae: 313.2635 - val_loss: 407392.1875 - val_mae: 316.0406\n",
      "Epoch 24/30\n",
      "182/182 [==============================] - 1s 3ms/step - loss: 357247.6250 - mae: 313.2762 - val_loss: 407391.7812 - val_mae: 316.0489\n",
      "Epoch 25/30\n",
      "182/182 [==============================] - 1s 3ms/step - loss: 357247.5938 - mae: 313.2859 - val_loss: 407391.5312 - val_mae: 316.0549\n",
      "Epoch 26/30\n",
      "182/182 [==============================] - 0s 3ms/step - loss: 357247.4375 - mae: 313.2938 - val_loss: 407391.3750 - val_mae: 316.0587\n",
      "Epoch 27/30\n",
      "182/182 [==============================] - 0s 2ms/step - loss: 357247.4375 - mae: 313.2989 - val_loss: 407391.2812 - val_mae: 316.0606\n",
      "Epoch 28/30\n",
      "182/182 [==============================] - 0s 2ms/step - loss: 357247.2812 - mae: 313.3013 - val_loss: 407391.1562 - val_mae: 316.0626\n",
      "Epoch 29/30\n",
      "182/182 [==============================] - 0s 2ms/step - loss: 357247.3125 - mae: 313.3046 - val_loss: 407391.0938 - val_mae: 316.0635\n",
      "Epoch 30/30\n",
      "182/182 [==============================] - 1s 3ms/step - loss: 357247.3125 - mae: 313.3064 - val_loss: 407391.0312 - val_mae: 316.0638\n"
     ]
    }
   ],
   "source": [
    "model_history=model.fit(x_train,y_train,batch_size=64, epochs=30,validation_data=(x_valid,y_valid))"
   ]
  },
  {
   "cell_type": "markdown",
   "id": "c8233bc3",
   "metadata": {},
   "source": [
    "### Saving and Restoring"
   ]
  },
  {
   "cell_type": "code",
   "execution_count": 62,
   "id": "5c319352",
   "metadata": {},
   "outputs": [],
   "source": [
    "model.save(\"my_Func_model.h5\")"
   ]
  },
  {
   "cell_type": "code",
   "execution_count": 63,
   "id": "13753ef4",
   "metadata": {},
   "outputs": [
    {
     "data": {
      "text/plain": [
       "'C:\\\\Users\\\\USER'"
      ]
     },
     "execution_count": 63,
     "metadata": {},
     "output_type": "execute_result"
    }
   ],
   "source": [
    "%pwd"
   ]
  },
  {
   "cell_type": "code",
   "execution_count": 64,
   "id": "a6e849a1",
   "metadata": {},
   "outputs": [],
   "source": [
    "del model"
   ]
  },
  {
   "cell_type": "code",
   "execution_count": 65,
   "id": "ac9a2e66",
   "metadata": {},
   "outputs": [],
   "source": [
    "keras.backend .clear_session()"
   ]
  },
  {
   "cell_type": "code",
   "execution_count": 66,
   "id": "7616ac58",
   "metadata": {},
   "outputs": [],
   "source": [
    "model=keras.models.load_model(\"my_Func_model.h5\")"
   ]
  },
  {
   "cell_type": "code",
   "execution_count": 67,
   "id": "ae3bf23b",
   "metadata": {},
   "outputs": [
    {
     "name": "stdout",
     "output_type": "stream",
     "text": [
      "Model: \"model\"\n",
      "__________________________________________________________________________________________________\n",
      " Layer (type)                   Output Shape         Param #     Connected to                     \n",
      "==================================================================================================\n",
      " input_1 (InputLayer)           [(None, 8)]          0           []                               \n",
      "                                                                                                  \n",
      " dense (Dense)                  (None, 30)           270         ['input_1[0][0]']                \n",
      "                                                                                                  \n",
      " dense_1 (Dense)                (None, 30)           930         ['dense[0][0]']                  \n",
      "                                                                                                  \n",
      " concatenate (Concatenate)      (None, 38)           0           ['input_1[0][0]',                \n",
      "                                                                  'dense_1[0][0]']                \n",
      "                                                                                                  \n",
      " dense_2 (Dense)                (None, 1)            39          ['concatenate[0][0]']            \n",
      "                                                                                                  \n",
      "==================================================================================================\n",
      "Total params: 1,239\n",
      "Trainable params: 1,239\n",
      "Non-trainable params: 0\n",
      "__________________________________________________________________________________________________\n"
     ]
    }
   ],
   "source": [
    "model.summary()"
   ]
  },
  {
   "cell_type": "code",
   "execution_count": 68,
   "id": "a9187a70",
   "metadata": {},
   "outputs": [
    {
     "name": "stdout",
     "output_type": "stream",
     "text": [
      "[[167.51888]\n",
      " [190.70618]\n",
      " [161.30902]]\n"
     ]
    }
   ],
   "source": [
    "y_pred=model.predict(x_new)\n",
    "print(y_pred)"
   ]
  },
  {
   "cell_type": "markdown",
   "id": "ffa0f8da",
   "metadata": {},
   "source": [
    "### Using call backs during training"
   ]
  },
  {
   "cell_type": "code",
   "execution_count": 71,
   "id": "79e0c9e8",
   "metadata": {},
   "outputs": [],
   "source": [
    "keras.backend.clear_session()\n",
    "np.random.seed(42)\n",
    "tf.random.set_seed(42)"
   ]
  },
  {
   "cell_type": "code",
   "execution_count": 73,
   "id": "de0ca255",
   "metadata": {},
   "outputs": [],
   "source": [
    "model=keras.models.Sequential([keras.layers.Dense(30,activation='relu',input_shape=[8]),\n",
    "                              keras.layers.Dense(30,activation='relu'),\n",
    "                              keras.layers.Dense(1)\n",
    "])"
   ]
  },
  {
   "cell_type": "code",
   "execution_count": 74,
   "id": "872e681a",
   "metadata": {},
   "outputs": [
    {
     "name": "stderr",
     "output_type": "stream",
     "text": [
      "C:\\Users\\USER\\anaconda3\\lib\\site-packages\\keras\\optimizer_v2\\gradient_descent.py:102: UserWarning: The `lr` argument is deprecated, use `learning_rate` instead.\n",
      "  super(SGD, self).__init__(name, **kwargs)\n"
     ]
    }
   ],
   "source": [
    "model.compile(loss=\"mse\",optimizer=keras.optimizers.SGD(lr=1e-3))"
   ]
  },
  {
   "cell_type": "code",
   "execution_count": 75,
   "id": "a6f21c77",
   "metadata": {},
   "outputs": [],
   "source": [
    "checkpoint_cb=keras.callbacks.ModelCheckpoint(\"Model-{epoch:02d}.h5\")"
   ]
  },
  {
   "cell_type": "code",
   "execution_count": 77,
   "id": "ebe4c94f",
   "metadata": {},
   "outputs": [
    {
     "name": "stdout",
     "output_type": "stream",
     "text": [
      "Epoch 1/10\n",
      "363/363 [==============================] - 1s 2ms/step - loss: 393895.8750 - val_loss: 442733.4062\n",
      "Epoch 2/10\n",
      "363/363 [==============================] - 1s 2ms/step - loss: 379681.2188 - val_loss: 437054.3750\n",
      "Epoch 3/10\n",
      "363/363 [==============================] - 1s 2ms/step - loss: 376771.5000 - val_loss: 435687.7188\n",
      "Epoch 4/10\n",
      "363/363 [==============================] - 1s 2ms/step - loss: 376089.0000 - val_loss: 435343.0312\n",
      "Epoch 5/10\n",
      "363/363 [==============================] - 1s 2ms/step - loss: 375927.5625 - val_loss: 435251.0000\n",
      "Epoch 6/10\n",
      "363/363 [==============================] - 1s 2ms/step - loss: 375890.5625 - val_loss: 435227.7188\n",
      "Epoch 7/10\n",
      "363/363 [==============================] - 1s 2ms/step - loss: 375882.3438 - val_loss: 435218.7500\n",
      "Epoch 8/10\n",
      "363/363 [==============================] - 1s 2ms/step - loss: 375880.1875 - val_loss: 435216.2188\n",
      "Epoch 9/10\n",
      "363/363 [==============================] - 1s 2ms/step - loss: 375879.7500 - val_loss: 435215.3125\n",
      "Epoch 10/10\n",
      "363/363 [==============================] - 1s 2ms/step - loss: 375879.5312 - val_loss: 435213.7500\n"
     ]
    }
   ],
   "source": [
    "history=model.fit(x_train,y_train,epochs=10, \n",
    "                 validation_data=(x_valid,y_valid),\n",
    "                 callbacks=[checkpoint_cb])"
   ]
  },
  {
   "cell_type": "code",
   "execution_count": 78,
   "id": "2fc93e3b",
   "metadata": {},
   "outputs": [],
   "source": [
    "del model\n",
    "keras.backend.clear_session()"
   ]
  },
  {
   "cell_type": "code",
   "execution_count": 79,
   "id": "d743fbf1",
   "metadata": {},
   "outputs": [],
   "source": [
    "model=keras.models.load_model(\"my_Func_model.h5\")"
   ]
  },
  {
   "cell_type": "code",
   "execution_count": 81,
   "id": "d0da3bc5",
   "metadata": {},
   "outputs": [
    {
     "name": "stdout",
     "output_type": "stream",
     "text": [
      "162/162 [==============================] - 0s 2ms/step - loss: 356847.9375 - mae: 312.2017\n"
     ]
    }
   ],
   "source": [
    "mse_test=model.evaluate(x_test,y_test)"
   ]
  },
  {
   "cell_type": "markdown",
   "id": "85a0c064",
   "metadata": {},
   "source": [
    "### Best Model"
   ]
  },
  {
   "cell_type": "code",
   "execution_count": 95,
   "id": "2fe64768",
   "metadata": {},
   "outputs": [],
   "source": [
    "del model\n",
    "keras.backend.clear_session()"
   ]
  },
  {
   "cell_type": "code",
   "execution_count": 96,
   "id": "7a791fea",
   "metadata": {},
   "outputs": [],
   "source": [
    "model=keras.models.Sequential([keras.layers.Dense(30,activation='relu',input_shape=[8]),\n",
    "                              keras.layers.Dense(30,activation='relu'),\n",
    "                              keras.layers.Dense(1)\n",
    "])"
   ]
  },
  {
   "cell_type": "code",
   "execution_count": 97,
   "id": "67b3b9d1",
   "metadata": {},
   "outputs": [],
   "source": [
    "model.compile(loss=\"mse\",optimizer=keras.optimizers.SGD(lr=1e-3))"
   ]
  },
  {
   "cell_type": "code",
   "execution_count": 109,
   "id": "fd250496",
   "metadata": {},
   "outputs": [],
   "source": [
    "checkpoint_cb=keras.callbacks.ModelCheckpoint(\"early_stop_model.h5\",save_best_only=True)"
   ]
  },
  {
   "cell_type": "code",
   "execution_count": 110,
   "id": "4850ce8f",
   "metadata": {},
   "outputs": [
    {
     "name": "stdout",
     "output_type": "stream",
     "text": [
      "Epoch 1/10\n",
      "363/363 [==============================] - 1s 2ms/step - loss: 375879.4375 - val_loss: 432719.0938\n",
      "Epoch 2/10\n",
      "363/363 [==============================] - 1s 2ms/step - loss: 375879.5312 - val_loss: 432719.2812\n",
      "Epoch 3/10\n",
      "363/363 [==============================] - 1s 2ms/step - loss: 375879.5312 - val_loss: 432719.8438\n",
      "Epoch 4/10\n",
      "363/363 [==============================] - 1s 2ms/step - loss: 375879.5000 - val_loss: 432719.6562\n",
      "Epoch 5/10\n",
      "363/363 [==============================] - 1s 2ms/step - loss: 375879.4062 - val_loss: 432719.2500\n",
      "Epoch 6/10\n",
      "363/363 [==============================] - 1s 2ms/step - loss: 375879.2500 - val_loss: 432719.8750\n",
      "Epoch 7/10\n",
      "363/363 [==============================] - 1s 2ms/step - loss: 375879.5312 - val_loss: 432719.7812\n",
      "Epoch 8/10\n",
      "363/363 [==============================] - 1s 2ms/step - loss: 375879.2188 - val_loss: 432720.1250\n",
      "Epoch 9/10\n",
      "363/363 [==============================] - 1s 2ms/step - loss: 375879.2500 - val_loss: 432720.2812\n",
      "Epoch 10/10\n",
      "363/363 [==============================] - 1s 2ms/step - loss: 375879.3438 - val_loss: 432719.6875\n"
     ]
    }
   ],
   "source": [
    "history=model.fit(x_train,y_train,epochs=10, \n",
    "                 validation_data=(x_valid,y_valid),\n",
    "                 callbacks=[checkpoint_cb])"
   ]
  },
  {
   "cell_type": "code",
   "execution_count": 111,
   "id": "1ec28300",
   "metadata": {},
   "outputs": [],
   "source": [
    "early_stopping_cb=keras.callbacks.EarlyStopping(patience=10, \n",
    "                                               restore_best_weights=True)\n",
    "# patience:Number of epochs with no improvement after which training will be stopped"
   ]
  },
  {
   "cell_type": "code",
   "execution_count": 112,
   "id": "5b9ec654",
   "metadata": {},
   "outputs": [
    {
     "name": "stdout",
     "output_type": "stream",
     "text": [
      "Epoch 1/200\n",
      "363/363 [==============================] - 1s 2ms/step - loss: 375879.4375 - val_loss: 432719.4688\n",
      "Epoch 2/200\n",
      "363/363 [==============================] - 1s 2ms/step - loss: 375879.3125 - val_loss: 432719.6562\n",
      "Epoch 3/200\n",
      "363/363 [==============================] - 1s 2ms/step - loss: 375879.6562 - val_loss: 432719.8438\n",
      "Epoch 4/200\n",
      "363/363 [==============================] - 1s 2ms/step - loss: 375879.4062 - val_loss: 432719.7188\n",
      "Epoch 5/200\n",
      "363/363 [==============================] - 1s 2ms/step - loss: 375879.3125 - val_loss: 432719.2188\n",
      "Epoch 6/200\n",
      "363/363 [==============================] - 1s 2ms/step - loss: 375879.3125 - val_loss: 432719.9062\n",
      "Epoch 7/200\n",
      "363/363 [==============================] - 1s 2ms/step - loss: 375879.5000 - val_loss: 432719.7812\n",
      "Epoch 8/200\n",
      "363/363 [==============================] - 1s 2ms/step - loss: 375879.1875 - val_loss: 432720.1250\n",
      "Epoch 9/200\n",
      "363/363 [==============================] - 1s 2ms/step - loss: 375879.2500 - val_loss: 432720.2812\n",
      "Epoch 10/200\n",
      "363/363 [==============================] - 1s 2ms/step - loss: 375879.3438 - val_loss: 432719.6875\n",
      "Epoch 11/200\n",
      "363/363 [==============================] - 1s 2ms/step - loss: 375879.5625 - val_loss: 432719.8438\n",
      "Epoch 12/200\n",
      "363/363 [==============================] - 1s 2ms/step - loss: 375879.4375 - val_loss: 432720.0625\n",
      "Epoch 13/200\n",
      "363/363 [==============================] - 1s 2ms/step - loss: 375879.6250 - val_loss: 432719.6562\n",
      "Epoch 14/200\n",
      "363/363 [==============================] - 1s 2ms/step - loss: 375879.5625 - val_loss: 432720.4688\n",
      "Epoch 15/200\n",
      "363/363 [==============================] - 1s 3ms/step - loss: 375879.2500 - val_loss: 432720.8438\n"
     ]
    }
   ],
   "source": [
    "history=model.fit(x_train,y_train,epochs=200, \n",
    "                 validation_data=(x_valid,y_valid),\n",
    "                 callbacks=[checkpoint_cb,early_stopping_cb])"
   ]
  },
  {
   "cell_type": "code",
   "execution_count": 113,
   "id": "34782785",
   "metadata": {},
   "outputs": [
    {
     "name": "stdout",
     "output_type": "stream",
     "text": [
      "162/162 [==============================] - 0s 1ms/step - loss: 375639.1562\n"
     ]
    }
   ],
   "source": [
    "model=keras.models.load_model(\"early_stop_model.h5\")\n",
    "mse_test=model.evaluate(x_test,y_test)"
   ]
  },
  {
   "cell_type": "code",
   "execution_count": null,
   "id": "1e261c0b",
   "metadata": {},
   "outputs": [],
   "source": []
  }
 ],
 "metadata": {
  "kernelspec": {
   "display_name": "Python 3 (ipykernel)",
   "language": "python",
   "name": "python3"
  },
  "language_info": {
   "codemirror_mode": {
    "name": "ipython",
    "version": 3
   },
   "file_extension": ".py",
   "mimetype": "text/x-python",
   "name": "python",
   "nbconvert_exporter": "python",
   "pygments_lexer": "ipython3",
   "version": "3.9.7"
  }
 },
 "nbformat": 4,
 "nbformat_minor": 5
}
