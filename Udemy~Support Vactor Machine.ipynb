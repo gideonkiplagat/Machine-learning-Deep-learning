{
 "cells": [
  {
   "cell_type": "code",
   "execution_count": 1,
   "id": "a8214be8",
   "metadata": {},
   "outputs": [],
   "source": [
    "import pandas as pd\n",
    "import numpy as np\n",
    "import seaborn as sns\n",
    "import matplotlib.pyplot as plt"
   ]
  },
  {
   "cell_type": "code",
   "execution_count": 2,
   "id": "d5ab1502",
   "metadata": {},
   "outputs": [],
   "source": [
    "df=pd.read_csv(\"D:/R Programming/Data Files/4. ST Academy - SVM resource files/Movie_regression.csv\")"
   ]
  },
  {
   "cell_type": "code",
   "execution_count": 3,
   "id": "eda43f57",
   "metadata": {},
   "outputs": [
    {
     "data": {
      "text/html": [
       "<div>\n",
       "<style scoped>\n",
       "    .dataframe tbody tr th:only-of-type {\n",
       "        vertical-align: middle;\n",
       "    }\n",
       "\n",
       "    .dataframe tbody tr th {\n",
       "        vertical-align: top;\n",
       "    }\n",
       "\n",
       "    .dataframe thead th {\n",
       "        text-align: right;\n",
       "    }\n",
       "</style>\n",
       "<table border=\"1\" class=\"dataframe\">\n",
       "  <thead>\n",
       "    <tr style=\"text-align: right;\">\n",
       "      <th></th>\n",
       "      <th>Marketing expense</th>\n",
       "      <th>Production expense</th>\n",
       "      <th>Multiplex coverage</th>\n",
       "      <th>Budget</th>\n",
       "      <th>Movie_length</th>\n",
       "      <th>Lead_ Actor_Rating</th>\n",
       "      <th>Lead_Actress_rating</th>\n",
       "      <th>Director_rating</th>\n",
       "      <th>Producer_rating</th>\n",
       "      <th>Critic_rating</th>\n",
       "      <th>Trailer_views</th>\n",
       "      <th>3D_available</th>\n",
       "      <th>Time_taken</th>\n",
       "      <th>Twitter_hastags</th>\n",
       "      <th>Genre</th>\n",
       "      <th>Avg_age_actors</th>\n",
       "      <th>Num_multiplex</th>\n",
       "      <th>Collection</th>\n",
       "    </tr>\n",
       "  </thead>\n",
       "  <tbody>\n",
       "    <tr>\n",
       "      <th>0</th>\n",
       "      <td>20.1264</td>\n",
       "      <td>59.62</td>\n",
       "      <td>0.462</td>\n",
       "      <td>36524.125</td>\n",
       "      <td>138.7</td>\n",
       "      <td>7.825</td>\n",
       "      <td>8.095</td>\n",
       "      <td>7.910</td>\n",
       "      <td>7.995</td>\n",
       "      <td>7.94</td>\n",
       "      <td>527367</td>\n",
       "      <td>YES</td>\n",
       "      <td>109.60</td>\n",
       "      <td>223.840</td>\n",
       "      <td>Thriller</td>\n",
       "      <td>23</td>\n",
       "      <td>494</td>\n",
       "      <td>48000</td>\n",
       "    </tr>\n",
       "    <tr>\n",
       "      <th>1</th>\n",
       "      <td>20.5462</td>\n",
       "      <td>69.14</td>\n",
       "      <td>0.531</td>\n",
       "      <td>35668.655</td>\n",
       "      <td>152.4</td>\n",
       "      <td>7.505</td>\n",
       "      <td>7.650</td>\n",
       "      <td>7.440</td>\n",
       "      <td>7.470</td>\n",
       "      <td>7.44</td>\n",
       "      <td>494055</td>\n",
       "      <td>NO</td>\n",
       "      <td>146.64</td>\n",
       "      <td>243.456</td>\n",
       "      <td>Drama</td>\n",
       "      <td>42</td>\n",
       "      <td>462</td>\n",
       "      <td>43200</td>\n",
       "    </tr>\n",
       "    <tr>\n",
       "      <th>2</th>\n",
       "      <td>20.5458</td>\n",
       "      <td>69.14</td>\n",
       "      <td>0.531</td>\n",
       "      <td>39912.675</td>\n",
       "      <td>134.6</td>\n",
       "      <td>7.485</td>\n",
       "      <td>7.570</td>\n",
       "      <td>7.495</td>\n",
       "      <td>7.515</td>\n",
       "      <td>7.44</td>\n",
       "      <td>547051</td>\n",
       "      <td>NO</td>\n",
       "      <td>147.88</td>\n",
       "      <td>2022.400</td>\n",
       "      <td>Comedy</td>\n",
       "      <td>38</td>\n",
       "      <td>458</td>\n",
       "      <td>69400</td>\n",
       "    </tr>\n",
       "    <tr>\n",
       "      <th>3</th>\n",
       "      <td>20.6474</td>\n",
       "      <td>59.36</td>\n",
       "      <td>0.542</td>\n",
       "      <td>38873.890</td>\n",
       "      <td>119.3</td>\n",
       "      <td>6.895</td>\n",
       "      <td>7.035</td>\n",
       "      <td>6.920</td>\n",
       "      <td>7.020</td>\n",
       "      <td>8.26</td>\n",
       "      <td>516279</td>\n",
       "      <td>YES</td>\n",
       "      <td>185.36</td>\n",
       "      <td>225.344</td>\n",
       "      <td>Drama</td>\n",
       "      <td>45</td>\n",
       "      <td>472</td>\n",
       "      <td>66800</td>\n",
       "    </tr>\n",
       "    <tr>\n",
       "      <th>4</th>\n",
       "      <td>21.3810</td>\n",
       "      <td>59.36</td>\n",
       "      <td>0.542</td>\n",
       "      <td>39701.585</td>\n",
       "      <td>127.7</td>\n",
       "      <td>6.920</td>\n",
       "      <td>7.070</td>\n",
       "      <td>6.815</td>\n",
       "      <td>7.070</td>\n",
       "      <td>8.26</td>\n",
       "      <td>531448</td>\n",
       "      <td>NO</td>\n",
       "      <td>176.48</td>\n",
       "      <td>225.792</td>\n",
       "      <td>Drama</td>\n",
       "      <td>55</td>\n",
       "      <td>395</td>\n",
       "      <td>72400</td>\n",
       "    </tr>\n",
       "  </tbody>\n",
       "</table>\n",
       "</div>"
      ],
      "text/plain": [
       "   Marketing expense  Production expense  Multiplex coverage     Budget  \\\n",
       "0            20.1264               59.62               0.462  36524.125   \n",
       "1            20.5462               69.14               0.531  35668.655   \n",
       "2            20.5458               69.14               0.531  39912.675   \n",
       "3            20.6474               59.36               0.542  38873.890   \n",
       "4            21.3810               59.36               0.542  39701.585   \n",
       "\n",
       "   Movie_length  Lead_ Actor_Rating  Lead_Actress_rating  Director_rating  \\\n",
       "0         138.7               7.825                8.095            7.910   \n",
       "1         152.4               7.505                7.650            7.440   \n",
       "2         134.6               7.485                7.570            7.495   \n",
       "3         119.3               6.895                7.035            6.920   \n",
       "4         127.7               6.920                7.070            6.815   \n",
       "\n",
       "   Producer_rating  Critic_rating  Trailer_views 3D_available  Time_taken  \\\n",
       "0            7.995           7.94         527367          YES      109.60   \n",
       "1            7.470           7.44         494055           NO      146.64   \n",
       "2            7.515           7.44         547051           NO      147.88   \n",
       "3            7.020           8.26         516279          YES      185.36   \n",
       "4            7.070           8.26         531448           NO      176.48   \n",
       "\n",
       "   Twitter_hastags     Genre  Avg_age_actors  Num_multiplex  Collection  \n",
       "0          223.840  Thriller              23            494       48000  \n",
       "1          243.456     Drama              42            462       43200  \n",
       "2         2022.400    Comedy              38            458       69400  \n",
       "3          225.344     Drama              45            472       66800  \n",
       "4          225.792     Drama              55            395       72400  "
      ]
     },
     "execution_count": 3,
     "metadata": {},
     "output_type": "execute_result"
    }
   ],
   "source": [
    "df.head()"
   ]
  },
  {
   "cell_type": "code",
   "execution_count": 4,
   "id": "55131252",
   "metadata": {},
   "outputs": [
    {
     "name": "stdout",
     "output_type": "stream",
     "text": [
      "<class 'pandas.core.frame.DataFrame'>\n",
      "RangeIndex: 506 entries, 0 to 505\n",
      "Data columns (total 18 columns):\n",
      " #   Column               Non-Null Count  Dtype  \n",
      "---  ------               --------------  -----  \n",
      " 0   Marketing expense    506 non-null    float64\n",
      " 1   Production expense   506 non-null    float64\n",
      " 2   Multiplex coverage   506 non-null    float64\n",
      " 3   Budget               506 non-null    float64\n",
      " 4   Movie_length         506 non-null    float64\n",
      " 5   Lead_ Actor_Rating   506 non-null    float64\n",
      " 6   Lead_Actress_rating  506 non-null    float64\n",
      " 7   Director_rating      506 non-null    float64\n",
      " 8   Producer_rating      506 non-null    float64\n",
      " 9   Critic_rating        506 non-null    float64\n",
      " 10  Trailer_views        506 non-null    int64  \n",
      " 11  3D_available         506 non-null    object \n",
      " 12  Time_taken           494 non-null    float64\n",
      " 13  Twitter_hastags      506 non-null    float64\n",
      " 14  Genre                506 non-null    object \n",
      " 15  Avg_age_actors       506 non-null    int64  \n",
      " 16  Num_multiplex        506 non-null    int64  \n",
      " 17  Collection           506 non-null    int64  \n",
      "dtypes: float64(12), int64(4), object(2)\n",
      "memory usage: 71.3+ KB\n"
     ]
    }
   ],
   "source": [
    "df.info()"
   ]
  },
  {
   "cell_type": "markdown",
   "id": "a3e97e36",
   "metadata": {},
   "source": [
    "### Missing value Imputation"
   ]
  },
  {
   "cell_type": "code",
   "execution_count": 5,
   "id": "4c8b5edf",
   "metadata": {},
   "outputs": [
    {
     "data": {
      "text/plain": [
       "157.39149797570855"
      ]
     },
     "execution_count": 5,
     "metadata": {},
     "output_type": "execute_result"
    }
   ],
   "source": [
    "df[\"Time_taken\"].mean()"
   ]
  },
  {
   "cell_type": "code",
   "execution_count": 6,
   "id": "cf7b152b",
   "metadata": {},
   "outputs": [],
   "source": [
    "df[\"Time_taken\"].fillna(value=df[\"Time_taken\"].mean(),inplace=True)"
   ]
  },
  {
   "cell_type": "code",
   "execution_count": 7,
   "id": "479b219c",
   "metadata": {},
   "outputs": [
    {
     "name": "stdout",
     "output_type": "stream",
     "text": [
      "<class 'pandas.core.frame.DataFrame'>\n",
      "RangeIndex: 506 entries, 0 to 505\n",
      "Data columns (total 18 columns):\n",
      " #   Column               Non-Null Count  Dtype  \n",
      "---  ------               --------------  -----  \n",
      " 0   Marketing expense    506 non-null    float64\n",
      " 1   Production expense   506 non-null    float64\n",
      " 2   Multiplex coverage   506 non-null    float64\n",
      " 3   Budget               506 non-null    float64\n",
      " 4   Movie_length         506 non-null    float64\n",
      " 5   Lead_ Actor_Rating   506 non-null    float64\n",
      " 6   Lead_Actress_rating  506 non-null    float64\n",
      " 7   Director_rating      506 non-null    float64\n",
      " 8   Producer_rating      506 non-null    float64\n",
      " 9   Critic_rating        506 non-null    float64\n",
      " 10  Trailer_views        506 non-null    int64  \n",
      " 11  3D_available         506 non-null    object \n",
      " 12  Time_taken           506 non-null    float64\n",
      " 13  Twitter_hastags      506 non-null    float64\n",
      " 14  Genre                506 non-null    object \n",
      " 15  Avg_age_actors       506 non-null    int64  \n",
      " 16  Num_multiplex        506 non-null    int64  \n",
      " 17  Collection           506 non-null    int64  \n",
      "dtypes: float64(12), int64(4), object(2)\n",
      "memory usage: 71.3+ KB\n"
     ]
    }
   ],
   "source": [
    "df.info()"
   ]
  },
  {
   "cell_type": "code",
   "execution_count": 8,
   "id": "509ad712",
   "metadata": {},
   "outputs": [],
   "source": [
    "df=pd.get_dummies(df,columns=['3D_available','Genre'],drop_first=True)"
   ]
  },
  {
   "cell_type": "code",
   "execution_count": 9,
   "id": "e77bf4be",
   "metadata": {},
   "outputs": [
    {
     "data": {
      "text/html": [
       "<div>\n",
       "<style scoped>\n",
       "    .dataframe tbody tr th:only-of-type {\n",
       "        vertical-align: middle;\n",
       "    }\n",
       "\n",
       "    .dataframe tbody tr th {\n",
       "        vertical-align: top;\n",
       "    }\n",
       "\n",
       "    .dataframe thead th {\n",
       "        text-align: right;\n",
       "    }\n",
       "</style>\n",
       "<table border=\"1\" class=\"dataframe\">\n",
       "  <thead>\n",
       "    <tr style=\"text-align: right;\">\n",
       "      <th></th>\n",
       "      <th>Marketing expense</th>\n",
       "      <th>Production expense</th>\n",
       "      <th>Multiplex coverage</th>\n",
       "      <th>Budget</th>\n",
       "      <th>Movie_length</th>\n",
       "      <th>Lead_ Actor_Rating</th>\n",
       "      <th>Lead_Actress_rating</th>\n",
       "      <th>Director_rating</th>\n",
       "      <th>Producer_rating</th>\n",
       "      <th>Critic_rating</th>\n",
       "      <th>Trailer_views</th>\n",
       "      <th>Time_taken</th>\n",
       "      <th>Twitter_hastags</th>\n",
       "      <th>Avg_age_actors</th>\n",
       "      <th>Num_multiplex</th>\n",
       "      <th>Collection</th>\n",
       "      <th>3D_available_YES</th>\n",
       "      <th>Genre_Comedy</th>\n",
       "      <th>Genre_Drama</th>\n",
       "      <th>Genre_Thriller</th>\n",
       "    </tr>\n",
       "  </thead>\n",
       "  <tbody>\n",
       "    <tr>\n",
       "      <th>0</th>\n",
       "      <td>20.1264</td>\n",
       "      <td>59.62</td>\n",
       "      <td>0.462</td>\n",
       "      <td>36524.125</td>\n",
       "      <td>138.7</td>\n",
       "      <td>7.825</td>\n",
       "      <td>8.095</td>\n",
       "      <td>7.910</td>\n",
       "      <td>7.995</td>\n",
       "      <td>7.94</td>\n",
       "      <td>527367</td>\n",
       "      <td>109.60</td>\n",
       "      <td>223.840</td>\n",
       "      <td>23</td>\n",
       "      <td>494</td>\n",
       "      <td>48000</td>\n",
       "      <td>1</td>\n",
       "      <td>0</td>\n",
       "      <td>0</td>\n",
       "      <td>1</td>\n",
       "    </tr>\n",
       "    <tr>\n",
       "      <th>1</th>\n",
       "      <td>20.5462</td>\n",
       "      <td>69.14</td>\n",
       "      <td>0.531</td>\n",
       "      <td>35668.655</td>\n",
       "      <td>152.4</td>\n",
       "      <td>7.505</td>\n",
       "      <td>7.650</td>\n",
       "      <td>7.440</td>\n",
       "      <td>7.470</td>\n",
       "      <td>7.44</td>\n",
       "      <td>494055</td>\n",
       "      <td>146.64</td>\n",
       "      <td>243.456</td>\n",
       "      <td>42</td>\n",
       "      <td>462</td>\n",
       "      <td>43200</td>\n",
       "      <td>0</td>\n",
       "      <td>0</td>\n",
       "      <td>1</td>\n",
       "      <td>0</td>\n",
       "    </tr>\n",
       "    <tr>\n",
       "      <th>2</th>\n",
       "      <td>20.5458</td>\n",
       "      <td>69.14</td>\n",
       "      <td>0.531</td>\n",
       "      <td>39912.675</td>\n",
       "      <td>134.6</td>\n",
       "      <td>7.485</td>\n",
       "      <td>7.570</td>\n",
       "      <td>7.495</td>\n",
       "      <td>7.515</td>\n",
       "      <td>7.44</td>\n",
       "      <td>547051</td>\n",
       "      <td>147.88</td>\n",
       "      <td>2022.400</td>\n",
       "      <td>38</td>\n",
       "      <td>458</td>\n",
       "      <td>69400</td>\n",
       "      <td>0</td>\n",
       "      <td>1</td>\n",
       "      <td>0</td>\n",
       "      <td>0</td>\n",
       "    </tr>\n",
       "    <tr>\n",
       "      <th>3</th>\n",
       "      <td>20.6474</td>\n",
       "      <td>59.36</td>\n",
       "      <td>0.542</td>\n",
       "      <td>38873.890</td>\n",
       "      <td>119.3</td>\n",
       "      <td>6.895</td>\n",
       "      <td>7.035</td>\n",
       "      <td>6.920</td>\n",
       "      <td>7.020</td>\n",
       "      <td>8.26</td>\n",
       "      <td>516279</td>\n",
       "      <td>185.36</td>\n",
       "      <td>225.344</td>\n",
       "      <td>45</td>\n",
       "      <td>472</td>\n",
       "      <td>66800</td>\n",
       "      <td>1</td>\n",
       "      <td>0</td>\n",
       "      <td>1</td>\n",
       "      <td>0</td>\n",
       "    </tr>\n",
       "    <tr>\n",
       "      <th>4</th>\n",
       "      <td>21.3810</td>\n",
       "      <td>59.36</td>\n",
       "      <td>0.542</td>\n",
       "      <td>39701.585</td>\n",
       "      <td>127.7</td>\n",
       "      <td>6.920</td>\n",
       "      <td>7.070</td>\n",
       "      <td>6.815</td>\n",
       "      <td>7.070</td>\n",
       "      <td>8.26</td>\n",
       "      <td>531448</td>\n",
       "      <td>176.48</td>\n",
       "      <td>225.792</td>\n",
       "      <td>55</td>\n",
       "      <td>395</td>\n",
       "      <td>72400</td>\n",
       "      <td>0</td>\n",
       "      <td>0</td>\n",
       "      <td>1</td>\n",
       "      <td>0</td>\n",
       "    </tr>\n",
       "  </tbody>\n",
       "</table>\n",
       "</div>"
      ],
      "text/plain": [
       "   Marketing expense  Production expense  Multiplex coverage     Budget  \\\n",
       "0            20.1264               59.62               0.462  36524.125   \n",
       "1            20.5462               69.14               0.531  35668.655   \n",
       "2            20.5458               69.14               0.531  39912.675   \n",
       "3            20.6474               59.36               0.542  38873.890   \n",
       "4            21.3810               59.36               0.542  39701.585   \n",
       "\n",
       "   Movie_length  Lead_ Actor_Rating  Lead_Actress_rating  Director_rating  \\\n",
       "0         138.7               7.825                8.095            7.910   \n",
       "1         152.4               7.505                7.650            7.440   \n",
       "2         134.6               7.485                7.570            7.495   \n",
       "3         119.3               6.895                7.035            6.920   \n",
       "4         127.7               6.920                7.070            6.815   \n",
       "\n",
       "   Producer_rating  Critic_rating  Trailer_views  Time_taken  Twitter_hastags  \\\n",
       "0            7.995           7.94         527367      109.60          223.840   \n",
       "1            7.470           7.44         494055      146.64          243.456   \n",
       "2            7.515           7.44         547051      147.88         2022.400   \n",
       "3            7.020           8.26         516279      185.36          225.344   \n",
       "4            7.070           8.26         531448      176.48          225.792   \n",
       "\n",
       "   Avg_age_actors  Num_multiplex  Collection  3D_available_YES  Genre_Comedy  \\\n",
       "0              23            494       48000                 1             0   \n",
       "1              42            462       43200                 0             0   \n",
       "2              38            458       69400                 0             1   \n",
       "3              45            472       66800                 1             0   \n",
       "4              55            395       72400                 0             0   \n",
       "\n",
       "   Genre_Drama  Genre_Thriller  \n",
       "0            0               1  \n",
       "1            1               0  \n",
       "2            0               0  \n",
       "3            1               0  \n",
       "4            1               0  "
      ]
     },
     "execution_count": 9,
     "metadata": {},
     "output_type": "execute_result"
    }
   ],
   "source": [
    "df.head()"
   ]
  },
  {
   "cell_type": "markdown",
   "id": "d3d7ac76",
   "metadata": {},
   "source": [
    "### X-Y split"
   ]
  },
  {
   "cell_type": "code",
   "execution_count": 10,
   "id": "902ebd3d",
   "metadata": {},
   "outputs": [
    {
     "data": {
      "text/plain": [
       "pandas.core.frame.DataFrame"
      ]
     },
     "execution_count": 10,
     "metadata": {},
     "output_type": "execute_result"
    }
   ],
   "source": [
    "x=df.loc[:,df.columns!='Collection']\n",
    "type(x)"
   ]
  },
  {
   "cell_type": "code",
   "execution_count": 11,
   "id": "58e97cf3",
   "metadata": {},
   "outputs": [
    {
     "data": {
      "text/html": [
       "<div>\n",
       "<style scoped>\n",
       "    .dataframe tbody tr th:only-of-type {\n",
       "        vertical-align: middle;\n",
       "    }\n",
       "\n",
       "    .dataframe tbody tr th {\n",
       "        vertical-align: top;\n",
       "    }\n",
       "\n",
       "    .dataframe thead th {\n",
       "        text-align: right;\n",
       "    }\n",
       "</style>\n",
       "<table border=\"1\" class=\"dataframe\">\n",
       "  <thead>\n",
       "    <tr style=\"text-align: right;\">\n",
       "      <th></th>\n",
       "      <th>Marketing expense</th>\n",
       "      <th>Production expense</th>\n",
       "      <th>Multiplex coverage</th>\n",
       "      <th>Budget</th>\n",
       "      <th>Movie_length</th>\n",
       "      <th>Lead_ Actor_Rating</th>\n",
       "      <th>Lead_Actress_rating</th>\n",
       "      <th>Director_rating</th>\n",
       "      <th>Producer_rating</th>\n",
       "      <th>Critic_rating</th>\n",
       "      <th>Trailer_views</th>\n",
       "      <th>Time_taken</th>\n",
       "      <th>Twitter_hastags</th>\n",
       "      <th>Avg_age_actors</th>\n",
       "      <th>Num_multiplex</th>\n",
       "      <th>3D_available_YES</th>\n",
       "      <th>Genre_Comedy</th>\n",
       "      <th>Genre_Drama</th>\n",
       "      <th>Genre_Thriller</th>\n",
       "    </tr>\n",
       "  </thead>\n",
       "  <tbody>\n",
       "    <tr>\n",
       "      <th>0</th>\n",
       "      <td>20.1264</td>\n",
       "      <td>59.62</td>\n",
       "      <td>0.462</td>\n",
       "      <td>36524.125</td>\n",
       "      <td>138.7</td>\n",
       "      <td>7.825</td>\n",
       "      <td>8.095</td>\n",
       "      <td>7.910</td>\n",
       "      <td>7.995</td>\n",
       "      <td>7.94</td>\n",
       "      <td>527367</td>\n",
       "      <td>109.60</td>\n",
       "      <td>223.840</td>\n",
       "      <td>23</td>\n",
       "      <td>494</td>\n",
       "      <td>1</td>\n",
       "      <td>0</td>\n",
       "      <td>0</td>\n",
       "      <td>1</td>\n",
       "    </tr>\n",
       "    <tr>\n",
       "      <th>1</th>\n",
       "      <td>20.5462</td>\n",
       "      <td>69.14</td>\n",
       "      <td>0.531</td>\n",
       "      <td>35668.655</td>\n",
       "      <td>152.4</td>\n",
       "      <td>7.505</td>\n",
       "      <td>7.650</td>\n",
       "      <td>7.440</td>\n",
       "      <td>7.470</td>\n",
       "      <td>7.44</td>\n",
       "      <td>494055</td>\n",
       "      <td>146.64</td>\n",
       "      <td>243.456</td>\n",
       "      <td>42</td>\n",
       "      <td>462</td>\n",
       "      <td>0</td>\n",
       "      <td>0</td>\n",
       "      <td>1</td>\n",
       "      <td>0</td>\n",
       "    </tr>\n",
       "    <tr>\n",
       "      <th>2</th>\n",
       "      <td>20.5458</td>\n",
       "      <td>69.14</td>\n",
       "      <td>0.531</td>\n",
       "      <td>39912.675</td>\n",
       "      <td>134.6</td>\n",
       "      <td>7.485</td>\n",
       "      <td>7.570</td>\n",
       "      <td>7.495</td>\n",
       "      <td>7.515</td>\n",
       "      <td>7.44</td>\n",
       "      <td>547051</td>\n",
       "      <td>147.88</td>\n",
       "      <td>2022.400</td>\n",
       "      <td>38</td>\n",
       "      <td>458</td>\n",
       "      <td>0</td>\n",
       "      <td>1</td>\n",
       "      <td>0</td>\n",
       "      <td>0</td>\n",
       "    </tr>\n",
       "    <tr>\n",
       "      <th>3</th>\n",
       "      <td>20.6474</td>\n",
       "      <td>59.36</td>\n",
       "      <td>0.542</td>\n",
       "      <td>38873.890</td>\n",
       "      <td>119.3</td>\n",
       "      <td>6.895</td>\n",
       "      <td>7.035</td>\n",
       "      <td>6.920</td>\n",
       "      <td>7.020</td>\n",
       "      <td>8.26</td>\n",
       "      <td>516279</td>\n",
       "      <td>185.36</td>\n",
       "      <td>225.344</td>\n",
       "      <td>45</td>\n",
       "      <td>472</td>\n",
       "      <td>1</td>\n",
       "      <td>0</td>\n",
       "      <td>1</td>\n",
       "      <td>0</td>\n",
       "    </tr>\n",
       "    <tr>\n",
       "      <th>4</th>\n",
       "      <td>21.3810</td>\n",
       "      <td>59.36</td>\n",
       "      <td>0.542</td>\n",
       "      <td>39701.585</td>\n",
       "      <td>127.7</td>\n",
       "      <td>6.920</td>\n",
       "      <td>7.070</td>\n",
       "      <td>6.815</td>\n",
       "      <td>7.070</td>\n",
       "      <td>8.26</td>\n",
       "      <td>531448</td>\n",
       "      <td>176.48</td>\n",
       "      <td>225.792</td>\n",
       "      <td>55</td>\n",
       "      <td>395</td>\n",
       "      <td>0</td>\n",
       "      <td>0</td>\n",
       "      <td>1</td>\n",
       "      <td>0</td>\n",
       "    </tr>\n",
       "  </tbody>\n",
       "</table>\n",
       "</div>"
      ],
      "text/plain": [
       "   Marketing expense  Production expense  Multiplex coverage     Budget  \\\n",
       "0            20.1264               59.62               0.462  36524.125   \n",
       "1            20.5462               69.14               0.531  35668.655   \n",
       "2            20.5458               69.14               0.531  39912.675   \n",
       "3            20.6474               59.36               0.542  38873.890   \n",
       "4            21.3810               59.36               0.542  39701.585   \n",
       "\n",
       "   Movie_length  Lead_ Actor_Rating  Lead_Actress_rating  Director_rating  \\\n",
       "0         138.7               7.825                8.095            7.910   \n",
       "1         152.4               7.505                7.650            7.440   \n",
       "2         134.6               7.485                7.570            7.495   \n",
       "3         119.3               6.895                7.035            6.920   \n",
       "4         127.7               6.920                7.070            6.815   \n",
       "\n",
       "   Producer_rating  Critic_rating  Trailer_views  Time_taken  Twitter_hastags  \\\n",
       "0            7.995           7.94         527367      109.60          223.840   \n",
       "1            7.470           7.44         494055      146.64          243.456   \n",
       "2            7.515           7.44         547051      147.88         2022.400   \n",
       "3            7.020           8.26         516279      185.36          225.344   \n",
       "4            7.070           8.26         531448      176.48          225.792   \n",
       "\n",
       "   Avg_age_actors  Num_multiplex  3D_available_YES  Genre_Comedy  Genre_Drama  \\\n",
       "0              23            494                 1             0            0   \n",
       "1              42            462                 0             0            1   \n",
       "2              38            458                 0             1            0   \n",
       "3              45            472                 1             0            1   \n",
       "4              55            395                 0             0            1   \n",
       "\n",
       "   Genre_Thriller  \n",
       "0               1  \n",
       "1               0  \n",
       "2               0  \n",
       "3               0  \n",
       "4               0  "
      ]
     },
     "execution_count": 11,
     "metadata": {},
     "output_type": "execute_result"
    }
   ],
   "source": [
    "x.head()"
   ]
  },
  {
   "cell_type": "code",
   "execution_count": 12,
   "id": "bfc8eda5",
   "metadata": {},
   "outputs": [
    {
     "name": "stdout",
     "output_type": "stream",
     "text": [
      "<class 'pandas.core.frame.DataFrame'>\n",
      "RangeIndex: 506 entries, 0 to 505\n",
      "Data columns (total 19 columns):\n",
      " #   Column               Non-Null Count  Dtype  \n",
      "---  ------               --------------  -----  \n",
      " 0   Marketing expense    506 non-null    float64\n",
      " 1   Production expense   506 non-null    float64\n",
      " 2   Multiplex coverage   506 non-null    float64\n",
      " 3   Budget               506 non-null    float64\n",
      " 4   Movie_length         506 non-null    float64\n",
      " 5   Lead_ Actor_Rating   506 non-null    float64\n",
      " 6   Lead_Actress_rating  506 non-null    float64\n",
      " 7   Director_rating      506 non-null    float64\n",
      " 8   Producer_rating      506 non-null    float64\n",
      " 9   Critic_rating        506 non-null    float64\n",
      " 10  Trailer_views        506 non-null    int64  \n",
      " 11  Time_taken           506 non-null    float64\n",
      " 12  Twitter_hastags      506 non-null    float64\n",
      " 13  Avg_age_actors       506 non-null    int64  \n",
      " 14  Num_multiplex        506 non-null    int64  \n",
      " 15  3D_available_YES     506 non-null    uint8  \n",
      " 16  Genre_Comedy         506 non-null    uint8  \n",
      " 17  Genre_Drama          506 non-null    uint8  \n",
      " 18  Genre_Thriller       506 non-null    uint8  \n",
      "dtypes: float64(12), int64(3), uint8(4)\n",
      "memory usage: 61.4 KB\n"
     ]
    }
   ],
   "source": [
    "x.info()"
   ]
  },
  {
   "cell_type": "code",
   "execution_count": 13,
   "id": "5aa8c128",
   "metadata": {},
   "outputs": [
    {
     "data": {
      "text/plain": [
       "(506, 19)"
      ]
     },
     "execution_count": 13,
     "metadata": {},
     "output_type": "execute_result"
    }
   ],
   "source": [
    "x.shape"
   ]
  },
  {
   "cell_type": "code",
   "execution_count": 14,
   "id": "3a491ca8",
   "metadata": {},
   "outputs": [
    {
     "data": {
      "text/plain": [
       "pandas.core.series.Series"
      ]
     },
     "execution_count": 14,
     "metadata": {},
     "output_type": "execute_result"
    }
   ],
   "source": [
    "y=df['Collection']\n",
    "type(y)"
   ]
  },
  {
   "cell_type": "markdown",
   "id": "d6d06de3",
   "metadata": {},
   "source": [
    "### Test-Train Split"
   ]
  },
  {
   "cell_type": "code",
   "execution_count": 15,
   "id": "e65c5ec0",
   "metadata": {},
   "outputs": [],
   "source": [
    "from sklearn.model_selection import train_test_split"
   ]
  },
  {
   "cell_type": "code",
   "execution_count": 16,
   "id": "ff873726",
   "metadata": {},
   "outputs": [],
   "source": [
    "x_train,x_test,y_train,y_test=train_test_split(x,y,random_state=0,test_size=0.2)"
   ]
  },
  {
   "cell_type": "code",
   "execution_count": 17,
   "id": "58e91a7b",
   "metadata": {},
   "outputs": [
    {
     "data": {
      "text/plain": [
       "(404, 19)"
      ]
     },
     "execution_count": 17,
     "metadata": {},
     "output_type": "execute_result"
    }
   ],
   "source": [
    "x_train.shape"
   ]
  },
  {
   "cell_type": "code",
   "execution_count": 18,
   "id": "31867549",
   "metadata": {},
   "outputs": [
    {
     "data": {
      "text/plain": [
       "(102, 19)"
      ]
     },
     "execution_count": 18,
     "metadata": {},
     "output_type": "execute_result"
    }
   ],
   "source": [
    "x_test.shape"
   ]
  },
  {
   "cell_type": "markdown",
   "id": "0f0661d5",
   "metadata": {},
   "source": [
    "### Standardizing the data, convert mean and variance of all the variables as either 0  and 1 respectively"
   ]
  },
  {
   "cell_type": "code",
   "execution_count": 19,
   "id": "3054f57b",
   "metadata": {},
   "outputs": [],
   "source": [
    "from sklearn.preprocessing import StandardScaler"
   ]
  },
  {
   "cell_type": "code",
   "execution_count": 20,
   "id": "cc4a43af",
   "metadata": {},
   "outputs": [],
   "source": [
    "sc=StandardScaler().fit(x_train)"
   ]
  },
  {
   "cell_type": "code",
   "execution_count": 21,
   "id": "c8dd18e6",
   "metadata": {},
   "outputs": [],
   "source": [
    "x_train_std=sc.transform(x_train)"
   ]
  },
  {
   "cell_type": "code",
   "execution_count": 22,
   "id": "ed64f0db",
   "metadata": {},
   "outputs": [],
   "source": [
    "x_test_std=sc.transform(x_test)"
   ]
  },
  {
   "cell_type": "code",
   "execution_count": 23,
   "id": "50db8fdb",
   "metadata": {},
   "outputs": [
    {
     "data": {
      "text/plain": [
       "array([[-0.40835869, -1.12872913,  0.83336883, ...,  1.50268577,\n",
       "        -0.48525664, -0.75225758],\n",
       "       [ 0.71925111,  0.9988844 , -0.65283979, ...,  1.50268577,\n",
       "        -0.48525664, -0.75225758],\n",
       "       [-0.40257488,  0.39610829,  0.05115377, ...,  1.50268577,\n",
       "        -0.48525664, -0.75225758],\n",
       "       ...,\n",
       "       [-0.3982601 , -0.85812418,  0.89420778, ..., -0.66547513,\n",
       "        -0.48525664,  1.3293319 ],\n",
       "       [-0.39934279, -0.07637654,  0.58132175, ...,  1.50268577,\n",
       "        -0.48525664, -0.75225758],\n",
       "       [-0.40088071, -0.36702631,  0.31189212, ..., -0.66547513,\n",
       "        -0.48525664, -0.75225758]])"
      ]
     },
     "execution_count": 23,
     "metadata": {},
     "output_type": "execute_result"
    }
   ],
   "source": [
    "x_test_std"
   ]
  },
  {
   "cell_type": "markdown",
   "id": "de4e8c4a",
   "metadata": {},
   "source": [
    "### Training Regression Tree"
   ]
  },
  {
   "cell_type": "code",
   "execution_count": 24,
   "id": "e7c8f9bb",
   "metadata": {},
   "outputs": [],
   "source": [
    "from sklearn.svm import SVR\n",
    "svr=SVR(kernel='linear',C=1000)"
   ]
  },
  {
   "cell_type": "code",
   "execution_count": 26,
   "id": "d116100e",
   "metadata": {},
   "outputs": [
    {
     "data": {
      "text/plain": [
       "SVR(C=1000, kernel='linear')"
      ]
     },
     "execution_count": 26,
     "metadata": {},
     "output_type": "execute_result"
    }
   ],
   "source": [
    "svr.fit(x_train_std,y_train)"
   ]
  },
  {
   "cell_type": "markdown",
   "id": "ad4615db",
   "metadata": {},
   "source": [
    "### Predicting values using trained model"
   ]
  },
  {
   "cell_type": "code",
   "execution_count": 27,
   "id": "c27257c9",
   "metadata": {},
   "outputs": [],
   "source": [
    "y_test_pred=svr.predict(x_test_std)\n",
    "y_train_pred=svr.predict(x_train_std)"
   ]
  },
  {
   "cell_type": "code",
   "execution_count": 30,
   "id": "3a44ec6c",
   "metadata": {},
   "outputs": [
    {
     "data": {
      "text/plain": [
       "array([54170.53503625, 42284.13073447, 47467.48411681, 18129.17355968,\n",
       "       48399.2694108 , 39866.86998057, 34007.32532044, 43289.77824001,\n",
       "       30366.10675075, 47064.86893308, 12791.33749785, 38408.82653373,\n",
       "       37559.85784034,  8779.61135966, 66820.90169749, 61934.22332501,\n",
       "       38795.59236698, 65521.75338819, 57150.63894057, 43345.30648075,\n",
       "       53845.74438999, 39163.9161095 , 41674.15698489, 58329.2948265 ,\n",
       "       42884.07327353, 13145.18400653, 40922.72188255, 29718.76094569,\n",
       "       74630.97971381, 44573.11287423, 36854.7122831 , 37424.55686816,\n",
       "       37582.94829537, 40845.85075693, 52096.63581819, 35540.25290306,\n",
       "       25313.83859774, 36522.56259703, 36623.75409555, 35831.61173002,\n",
       "       47370.51557929, 45957.66677543, 44656.54171505, 27680.22280557,\n",
       "       50609.67508545, 46713.98056409, 33197.61112633, 40047.74770769,\n",
       "       15830.8986982 , 51791.84658664, 41241.55116877, 39132.63366916,\n",
       "       47511.3684718 , 67543.6845176 , 25372.80865713, 41659.98849411,\n",
       "       41183.13416828, 34329.69827939, 21291.90329438, 39332.20090511,\n",
       "       41482.76666808, 41305.705476  , 65283.01275883, 64854.422162  ,\n",
       "       28470.27249381, 63678.89600398, 37109.92800204, 39308.41079599,\n",
       "       42108.77491374, 47272.96039093, 46402.38045685, 48948.09910041,\n",
       "       56494.74395678, 59884.05633069, 49074.24411709, 10885.11690224,\n",
       "       73708.55119772, 44774.58652223, 59273.21131031, 38000.03908567,\n",
       "       50616.25130199, 43141.53644229, 32228.32910879, 81337.35382161,\n",
       "       79338.4819698 , 47926.47727737, 50711.45023189, 30108.91100051,\n",
       "       49496.94125933, 38011.42325353, 34085.66885372, 34287.73114638,\n",
       "       43273.16443822, 59282.17937564, 43881.88478087, 42304.07003505,\n",
       "       -4537.98340671, 52502.3163472 , 36710.19229576, 32246.91091579,\n",
       "       49741.80875784, 48435.89960542])"
      ]
     },
     "execution_count": 30,
     "metadata": {},
     "output_type": "execute_result"
    }
   ],
   "source": [
    "y_test_pred"
   ]
  },
  {
   "cell_type": "markdown",
   "id": "2c82c828",
   "metadata": {},
   "source": [
    "### model performance"
   ]
  },
  {
   "cell_type": "code",
   "execution_count": 31,
   "id": "981147fc",
   "metadata": {},
   "outputs": [],
   "source": [
    "from sklearn.metrics import mean_squared_error,r2_score"
   ]
  },
  {
   "cell_type": "code",
   "execution_count": 32,
   "id": "c35a0be9",
   "metadata": {},
   "outputs": [
    {
     "data": {
      "text/plain": [
       "160153135.39405018"
      ]
     },
     "execution_count": 32,
     "metadata": {},
     "output_type": "execute_result"
    }
   ],
   "source": [
    "mean_squared_error(y_test,y_test_pred)"
   ]
  },
  {
   "cell_type": "code",
   "execution_count": 34,
   "id": "6285198f",
   "metadata": {},
   "outputs": [
    {
     "data": {
      "text/plain": [
       "0.7124450931551785"
      ]
     },
     "execution_count": 34,
     "metadata": {},
     "output_type": "execute_result"
    }
   ],
   "source": [
    "r2_score(y_train,y_train_pred)"
   ]
  },
  {
   "cell_type": "code",
   "execution_count": 35,
   "id": "22fbf86c",
   "metadata": {},
   "outputs": [
    {
     "data": {
      "text/plain": [
       "0.5025135728682528"
      ]
     },
     "execution_count": 35,
     "metadata": {},
     "output_type": "execute_result"
    }
   ],
   "source": [
    "r2_score(y_test,y_test_pred)"
   ]
  },
  {
   "cell_type": "markdown",
   "id": "97c3322c",
   "metadata": {},
   "source": [
    "# Classificaion Tree"
   ]
  },
  {
   "cell_type": "code",
   "execution_count": 37,
   "id": "a3e3ae26",
   "metadata": {},
   "outputs": [],
   "source": [
    "df1=pd.read_csv(\"D:/R Programming\\Data Files/4. ST Academy - SVM resource files/Movie_classification.csv\")"
   ]
  },
  {
   "cell_type": "code",
   "execution_count": 38,
   "id": "c2842d3c",
   "metadata": {},
   "outputs": [
    {
     "data": {
      "text/html": [
       "<div>\n",
       "<style scoped>\n",
       "    .dataframe tbody tr th:only-of-type {\n",
       "        vertical-align: middle;\n",
       "    }\n",
       "\n",
       "    .dataframe tbody tr th {\n",
       "        vertical-align: top;\n",
       "    }\n",
       "\n",
       "    .dataframe thead th {\n",
       "        text-align: right;\n",
       "    }\n",
       "</style>\n",
       "<table border=\"1\" class=\"dataframe\">\n",
       "  <thead>\n",
       "    <tr style=\"text-align: right;\">\n",
       "      <th></th>\n",
       "      <th>Marketing expense</th>\n",
       "      <th>Production expense</th>\n",
       "      <th>Multiplex coverage</th>\n",
       "      <th>Budget</th>\n",
       "      <th>Movie_length</th>\n",
       "      <th>Lead_ Actor_Rating</th>\n",
       "      <th>Lead_Actress_rating</th>\n",
       "      <th>Director_rating</th>\n",
       "      <th>Producer_rating</th>\n",
       "      <th>Critic_rating</th>\n",
       "      <th>Trailer_views</th>\n",
       "      <th>3D_available</th>\n",
       "      <th>Time_taken</th>\n",
       "      <th>Twitter_hastags</th>\n",
       "      <th>Genre</th>\n",
       "      <th>Avg_age_actors</th>\n",
       "      <th>Num_multiplex</th>\n",
       "      <th>Collection</th>\n",
       "      <th>Start_Tech_Oscar</th>\n",
       "    </tr>\n",
       "  </thead>\n",
       "  <tbody>\n",
       "    <tr>\n",
       "      <th>0</th>\n",
       "      <td>20.1264</td>\n",
       "      <td>59.62</td>\n",
       "      <td>0.462</td>\n",
       "      <td>36524.125</td>\n",
       "      <td>138.7</td>\n",
       "      <td>7.825</td>\n",
       "      <td>8.095</td>\n",
       "      <td>7.910</td>\n",
       "      <td>7.995</td>\n",
       "      <td>7.94</td>\n",
       "      <td>527367</td>\n",
       "      <td>YES</td>\n",
       "      <td>109.60</td>\n",
       "      <td>223.840</td>\n",
       "      <td>Thriller</td>\n",
       "      <td>23</td>\n",
       "      <td>494</td>\n",
       "      <td>48000</td>\n",
       "      <td>1</td>\n",
       "    </tr>\n",
       "    <tr>\n",
       "      <th>1</th>\n",
       "      <td>20.5462</td>\n",
       "      <td>69.14</td>\n",
       "      <td>0.531</td>\n",
       "      <td>35668.655</td>\n",
       "      <td>152.4</td>\n",
       "      <td>7.505</td>\n",
       "      <td>7.650</td>\n",
       "      <td>7.440</td>\n",
       "      <td>7.470</td>\n",
       "      <td>7.44</td>\n",
       "      <td>494055</td>\n",
       "      <td>NO</td>\n",
       "      <td>146.64</td>\n",
       "      <td>243.456</td>\n",
       "      <td>Drama</td>\n",
       "      <td>42</td>\n",
       "      <td>462</td>\n",
       "      <td>43200</td>\n",
       "      <td>0</td>\n",
       "    </tr>\n",
       "    <tr>\n",
       "      <th>2</th>\n",
       "      <td>20.5458</td>\n",
       "      <td>69.14</td>\n",
       "      <td>0.531</td>\n",
       "      <td>39912.675</td>\n",
       "      <td>134.6</td>\n",
       "      <td>7.485</td>\n",
       "      <td>7.570</td>\n",
       "      <td>7.495</td>\n",
       "      <td>7.515</td>\n",
       "      <td>7.44</td>\n",
       "      <td>547051</td>\n",
       "      <td>NO</td>\n",
       "      <td>147.88</td>\n",
       "      <td>2022.400</td>\n",
       "      <td>Comedy</td>\n",
       "      <td>38</td>\n",
       "      <td>458</td>\n",
       "      <td>69400</td>\n",
       "      <td>1</td>\n",
       "    </tr>\n",
       "    <tr>\n",
       "      <th>3</th>\n",
       "      <td>20.6474</td>\n",
       "      <td>59.36</td>\n",
       "      <td>0.542</td>\n",
       "      <td>38873.890</td>\n",
       "      <td>119.3</td>\n",
       "      <td>6.895</td>\n",
       "      <td>7.035</td>\n",
       "      <td>6.920</td>\n",
       "      <td>7.020</td>\n",
       "      <td>8.26</td>\n",
       "      <td>516279</td>\n",
       "      <td>YES</td>\n",
       "      <td>185.36</td>\n",
       "      <td>225.344</td>\n",
       "      <td>Drama</td>\n",
       "      <td>45</td>\n",
       "      <td>472</td>\n",
       "      <td>66800</td>\n",
       "      <td>1</td>\n",
       "    </tr>\n",
       "    <tr>\n",
       "      <th>4</th>\n",
       "      <td>21.3810</td>\n",
       "      <td>59.36</td>\n",
       "      <td>0.542</td>\n",
       "      <td>39701.585</td>\n",
       "      <td>127.7</td>\n",
       "      <td>6.920</td>\n",
       "      <td>7.070</td>\n",
       "      <td>6.815</td>\n",
       "      <td>7.070</td>\n",
       "      <td>8.26</td>\n",
       "      <td>531448</td>\n",
       "      <td>NO</td>\n",
       "      <td>176.48</td>\n",
       "      <td>225.792</td>\n",
       "      <td>Drama</td>\n",
       "      <td>55</td>\n",
       "      <td>395</td>\n",
       "      <td>72400</td>\n",
       "      <td>1</td>\n",
       "    </tr>\n",
       "  </tbody>\n",
       "</table>\n",
       "</div>"
      ],
      "text/plain": [
       "   Marketing expense  Production expense  Multiplex coverage     Budget  \\\n",
       "0            20.1264               59.62               0.462  36524.125   \n",
       "1            20.5462               69.14               0.531  35668.655   \n",
       "2            20.5458               69.14               0.531  39912.675   \n",
       "3            20.6474               59.36               0.542  38873.890   \n",
       "4            21.3810               59.36               0.542  39701.585   \n",
       "\n",
       "   Movie_length  Lead_ Actor_Rating  Lead_Actress_rating  Director_rating  \\\n",
       "0         138.7               7.825                8.095            7.910   \n",
       "1         152.4               7.505                7.650            7.440   \n",
       "2         134.6               7.485                7.570            7.495   \n",
       "3         119.3               6.895                7.035            6.920   \n",
       "4         127.7               6.920                7.070            6.815   \n",
       "\n",
       "   Producer_rating  Critic_rating  Trailer_views 3D_available  Time_taken  \\\n",
       "0            7.995           7.94         527367          YES      109.60   \n",
       "1            7.470           7.44         494055           NO      146.64   \n",
       "2            7.515           7.44         547051           NO      147.88   \n",
       "3            7.020           8.26         516279          YES      185.36   \n",
       "4            7.070           8.26         531448           NO      176.48   \n",
       "\n",
       "   Twitter_hastags     Genre  Avg_age_actors  Num_multiplex  Collection  \\\n",
       "0          223.840  Thriller              23            494       48000   \n",
       "1          243.456     Drama              42            462       43200   \n",
       "2         2022.400    Comedy              38            458       69400   \n",
       "3          225.344     Drama              45            472       66800   \n",
       "4          225.792     Drama              55            395       72400   \n",
       "\n",
       "   Start_Tech_Oscar  \n",
       "0                 1  \n",
       "1                 0  \n",
       "2                 1  \n",
       "3                 1  \n",
       "4                 1  "
      ]
     },
     "execution_count": 38,
     "metadata": {},
     "output_type": "execute_result"
    }
   ],
   "source": [
    "df1.head()"
   ]
  },
  {
   "cell_type": "code",
   "execution_count": 39,
   "id": "cd498ce0",
   "metadata": {},
   "outputs": [
    {
     "name": "stdout",
     "output_type": "stream",
     "text": [
      "<class 'pandas.core.frame.DataFrame'>\n",
      "RangeIndex: 506 entries, 0 to 505\n",
      "Data columns (total 19 columns):\n",
      " #   Column               Non-Null Count  Dtype  \n",
      "---  ------               --------------  -----  \n",
      " 0   Marketing expense    506 non-null    float64\n",
      " 1   Production expense   506 non-null    float64\n",
      " 2   Multiplex coverage   506 non-null    float64\n",
      " 3   Budget               506 non-null    float64\n",
      " 4   Movie_length         506 non-null    float64\n",
      " 5   Lead_ Actor_Rating   506 non-null    float64\n",
      " 6   Lead_Actress_rating  506 non-null    float64\n",
      " 7   Director_rating      506 non-null    float64\n",
      " 8   Producer_rating      506 non-null    float64\n",
      " 9   Critic_rating        506 non-null    float64\n",
      " 10  Trailer_views        506 non-null    int64  \n",
      " 11  3D_available         506 non-null    object \n",
      " 12  Time_taken           494 non-null    float64\n",
      " 13  Twitter_hastags      506 non-null    float64\n",
      " 14  Genre                506 non-null    object \n",
      " 15  Avg_age_actors       506 non-null    int64  \n",
      " 16  Num_multiplex        506 non-null    int64  \n",
      " 17  Collection           506 non-null    int64  \n",
      " 18  Start_Tech_Oscar     506 non-null    int64  \n",
      "dtypes: float64(12), int64(5), object(2)\n",
      "memory usage: 75.2+ KB\n"
     ]
    }
   ],
   "source": [
    "df1.info()"
   ]
  },
  {
   "cell_type": "code",
   "execution_count": 40,
   "id": "4e49f320",
   "metadata": {},
   "outputs": [
    {
     "data": {
      "text/plain": [
       "157.39149797570855"
      ]
     },
     "execution_count": 40,
     "metadata": {},
     "output_type": "execute_result"
    }
   ],
   "source": [
    "df1['Time_taken'].mean()"
   ]
  },
  {
   "cell_type": "code",
   "execution_count": 42,
   "id": "6938b176",
   "metadata": {},
   "outputs": [],
   "source": [
    "df1['Time_taken'].fillna(value=df1['Time_taken'].mean(),inplace=True)"
   ]
  },
  {
   "cell_type": "code",
   "execution_count": 43,
   "id": "952b068e",
   "metadata": {},
   "outputs": [
    {
     "name": "stdout",
     "output_type": "stream",
     "text": [
      "<class 'pandas.core.frame.DataFrame'>\n",
      "RangeIndex: 506 entries, 0 to 505\n",
      "Data columns (total 19 columns):\n",
      " #   Column               Non-Null Count  Dtype  \n",
      "---  ------               --------------  -----  \n",
      " 0   Marketing expense    506 non-null    float64\n",
      " 1   Production expense   506 non-null    float64\n",
      " 2   Multiplex coverage   506 non-null    float64\n",
      " 3   Budget               506 non-null    float64\n",
      " 4   Movie_length         506 non-null    float64\n",
      " 5   Lead_ Actor_Rating   506 non-null    float64\n",
      " 6   Lead_Actress_rating  506 non-null    float64\n",
      " 7   Director_rating      506 non-null    float64\n",
      " 8   Producer_rating      506 non-null    float64\n",
      " 9   Critic_rating        506 non-null    float64\n",
      " 10  Trailer_views        506 non-null    int64  \n",
      " 11  3D_available         506 non-null    object \n",
      " 12  Time_taken           506 non-null    float64\n",
      " 13  Twitter_hastags      506 non-null    float64\n",
      " 14  Genre                506 non-null    object \n",
      " 15  Avg_age_actors       506 non-null    int64  \n",
      " 16  Num_multiplex        506 non-null    int64  \n",
      " 17  Collection           506 non-null    int64  \n",
      " 18  Start_Tech_Oscar     506 non-null    int64  \n",
      "dtypes: float64(12), int64(5), object(2)\n",
      "memory usage: 75.2+ KB\n"
     ]
    }
   ],
   "source": [
    "df1.info()"
   ]
  },
  {
   "cell_type": "code",
   "execution_count": 45,
   "id": "53658b99",
   "metadata": {},
   "outputs": [],
   "source": [
    "df1=pd.get_dummies(df1,columns=['3D_available','Genre'],drop_first=True)"
   ]
  },
  {
   "cell_type": "code",
   "execution_count": 46,
   "id": "e519809d",
   "metadata": {},
   "outputs": [
    {
     "data": {
      "text/html": [
       "<div>\n",
       "<style scoped>\n",
       "    .dataframe tbody tr th:only-of-type {\n",
       "        vertical-align: middle;\n",
       "    }\n",
       "\n",
       "    .dataframe tbody tr th {\n",
       "        vertical-align: top;\n",
       "    }\n",
       "\n",
       "    .dataframe thead th {\n",
       "        text-align: right;\n",
       "    }\n",
       "</style>\n",
       "<table border=\"1\" class=\"dataframe\">\n",
       "  <thead>\n",
       "    <tr style=\"text-align: right;\">\n",
       "      <th></th>\n",
       "      <th>Marketing expense</th>\n",
       "      <th>Production expense</th>\n",
       "      <th>Multiplex coverage</th>\n",
       "      <th>Budget</th>\n",
       "      <th>Movie_length</th>\n",
       "      <th>Lead_ Actor_Rating</th>\n",
       "      <th>Lead_Actress_rating</th>\n",
       "      <th>Director_rating</th>\n",
       "      <th>Producer_rating</th>\n",
       "      <th>Critic_rating</th>\n",
       "      <th>...</th>\n",
       "      <th>Time_taken</th>\n",
       "      <th>Twitter_hastags</th>\n",
       "      <th>Avg_age_actors</th>\n",
       "      <th>Num_multiplex</th>\n",
       "      <th>Collection</th>\n",
       "      <th>Start_Tech_Oscar</th>\n",
       "      <th>3D_available_YES</th>\n",
       "      <th>Genre_Comedy</th>\n",
       "      <th>Genre_Drama</th>\n",
       "      <th>Genre_Thriller</th>\n",
       "    </tr>\n",
       "  </thead>\n",
       "  <tbody>\n",
       "    <tr>\n",
       "      <th>0</th>\n",
       "      <td>20.1264</td>\n",
       "      <td>59.62</td>\n",
       "      <td>0.462</td>\n",
       "      <td>36524.125</td>\n",
       "      <td>138.7</td>\n",
       "      <td>7.825</td>\n",
       "      <td>8.095</td>\n",
       "      <td>7.910</td>\n",
       "      <td>7.995</td>\n",
       "      <td>7.94</td>\n",
       "      <td>...</td>\n",
       "      <td>109.60</td>\n",
       "      <td>223.840</td>\n",
       "      <td>23</td>\n",
       "      <td>494</td>\n",
       "      <td>48000</td>\n",
       "      <td>1</td>\n",
       "      <td>1</td>\n",
       "      <td>0</td>\n",
       "      <td>0</td>\n",
       "      <td>1</td>\n",
       "    </tr>\n",
       "    <tr>\n",
       "      <th>1</th>\n",
       "      <td>20.5462</td>\n",
       "      <td>69.14</td>\n",
       "      <td>0.531</td>\n",
       "      <td>35668.655</td>\n",
       "      <td>152.4</td>\n",
       "      <td>7.505</td>\n",
       "      <td>7.650</td>\n",
       "      <td>7.440</td>\n",
       "      <td>7.470</td>\n",
       "      <td>7.44</td>\n",
       "      <td>...</td>\n",
       "      <td>146.64</td>\n",
       "      <td>243.456</td>\n",
       "      <td>42</td>\n",
       "      <td>462</td>\n",
       "      <td>43200</td>\n",
       "      <td>0</td>\n",
       "      <td>0</td>\n",
       "      <td>0</td>\n",
       "      <td>1</td>\n",
       "      <td>0</td>\n",
       "    </tr>\n",
       "    <tr>\n",
       "      <th>2</th>\n",
       "      <td>20.5458</td>\n",
       "      <td>69.14</td>\n",
       "      <td>0.531</td>\n",
       "      <td>39912.675</td>\n",
       "      <td>134.6</td>\n",
       "      <td>7.485</td>\n",
       "      <td>7.570</td>\n",
       "      <td>7.495</td>\n",
       "      <td>7.515</td>\n",
       "      <td>7.44</td>\n",
       "      <td>...</td>\n",
       "      <td>147.88</td>\n",
       "      <td>2022.400</td>\n",
       "      <td>38</td>\n",
       "      <td>458</td>\n",
       "      <td>69400</td>\n",
       "      <td>1</td>\n",
       "      <td>0</td>\n",
       "      <td>1</td>\n",
       "      <td>0</td>\n",
       "      <td>0</td>\n",
       "    </tr>\n",
       "    <tr>\n",
       "      <th>3</th>\n",
       "      <td>20.6474</td>\n",
       "      <td>59.36</td>\n",
       "      <td>0.542</td>\n",
       "      <td>38873.890</td>\n",
       "      <td>119.3</td>\n",
       "      <td>6.895</td>\n",
       "      <td>7.035</td>\n",
       "      <td>6.920</td>\n",
       "      <td>7.020</td>\n",
       "      <td>8.26</td>\n",
       "      <td>...</td>\n",
       "      <td>185.36</td>\n",
       "      <td>225.344</td>\n",
       "      <td>45</td>\n",
       "      <td>472</td>\n",
       "      <td>66800</td>\n",
       "      <td>1</td>\n",
       "      <td>1</td>\n",
       "      <td>0</td>\n",
       "      <td>1</td>\n",
       "      <td>0</td>\n",
       "    </tr>\n",
       "    <tr>\n",
       "      <th>4</th>\n",
       "      <td>21.3810</td>\n",
       "      <td>59.36</td>\n",
       "      <td>0.542</td>\n",
       "      <td>39701.585</td>\n",
       "      <td>127.7</td>\n",
       "      <td>6.920</td>\n",
       "      <td>7.070</td>\n",
       "      <td>6.815</td>\n",
       "      <td>7.070</td>\n",
       "      <td>8.26</td>\n",
       "      <td>...</td>\n",
       "      <td>176.48</td>\n",
       "      <td>225.792</td>\n",
       "      <td>55</td>\n",
       "      <td>395</td>\n",
       "      <td>72400</td>\n",
       "      <td>1</td>\n",
       "      <td>0</td>\n",
       "      <td>0</td>\n",
       "      <td>1</td>\n",
       "      <td>0</td>\n",
       "    </tr>\n",
       "  </tbody>\n",
       "</table>\n",
       "<p>5 rows × 21 columns</p>\n",
       "</div>"
      ],
      "text/plain": [
       "   Marketing expense  Production expense  Multiplex coverage     Budget  \\\n",
       "0            20.1264               59.62               0.462  36524.125   \n",
       "1            20.5462               69.14               0.531  35668.655   \n",
       "2            20.5458               69.14               0.531  39912.675   \n",
       "3            20.6474               59.36               0.542  38873.890   \n",
       "4            21.3810               59.36               0.542  39701.585   \n",
       "\n",
       "   Movie_length  Lead_ Actor_Rating  Lead_Actress_rating  Director_rating  \\\n",
       "0         138.7               7.825                8.095            7.910   \n",
       "1         152.4               7.505                7.650            7.440   \n",
       "2         134.6               7.485                7.570            7.495   \n",
       "3         119.3               6.895                7.035            6.920   \n",
       "4         127.7               6.920                7.070            6.815   \n",
       "\n",
       "   Producer_rating  Critic_rating  ...  Time_taken  Twitter_hastags  \\\n",
       "0            7.995           7.94  ...      109.60          223.840   \n",
       "1            7.470           7.44  ...      146.64          243.456   \n",
       "2            7.515           7.44  ...      147.88         2022.400   \n",
       "3            7.020           8.26  ...      185.36          225.344   \n",
       "4            7.070           8.26  ...      176.48          225.792   \n",
       "\n",
       "   Avg_age_actors  Num_multiplex  Collection  Start_Tech_Oscar  \\\n",
       "0              23            494       48000                 1   \n",
       "1              42            462       43200                 0   \n",
       "2              38            458       69400                 1   \n",
       "3              45            472       66800                 1   \n",
       "4              55            395       72400                 1   \n",
       "\n",
       "   3D_available_YES  Genre_Comedy  Genre_Drama  Genre_Thriller  \n",
       "0                 1             0            0               1  \n",
       "1                 0             0            1               0  \n",
       "2                 0             1            0               0  \n",
       "3                 1             0            1               0  \n",
       "4                 0             0            1               0  \n",
       "\n",
       "[5 rows x 21 columns]"
      ]
     },
     "execution_count": 46,
     "metadata": {},
     "output_type": "execute_result"
    }
   ],
   "source": [
    "df1.head()"
   ]
  },
  {
   "cell_type": "markdown",
   "id": "57795bf1",
   "metadata": {},
   "source": [
    "## X-Y Split"
   ]
  },
  {
   "cell_type": "code",
   "execution_count": 49,
   "id": "9a182601",
   "metadata": {},
   "outputs": [
    {
     "data": {
      "text/plain": [
       "pandas.core.frame.DataFrame"
      ]
     },
     "execution_count": 49,
     "metadata": {},
     "output_type": "execute_result"
    }
   ],
   "source": [
    "x=df1.loc[:,df1.columns!='Start_Tech_Oscar']\n",
    "type(x)"
   ]
  },
  {
   "cell_type": "code",
   "execution_count": 52,
   "id": "6c21f705",
   "metadata": {},
   "outputs": [
    {
     "data": {
      "text/plain": [
       "pandas.core.series.Series"
      ]
     },
     "execution_count": 52,
     "metadata": {},
     "output_type": "execute_result"
    }
   ],
   "source": [
    "y=df1['Start_Tech_Oscar']\n",
    "type(y)"
   ]
  },
  {
   "cell_type": "markdown",
   "id": "e3c6d447",
   "metadata": {},
   "source": [
    "### Test_train_split"
   ]
  },
  {
   "cell_type": "code",
   "execution_count": 53,
   "id": "eceb6aaf",
   "metadata": {},
   "outputs": [],
   "source": [
    "from sklearn.model_selection import train_test_split"
   ]
  },
  {
   "cell_type": "code",
   "execution_count": 55,
   "id": "65f61b1b",
   "metadata": {},
   "outputs": [],
   "source": [
    "x_train,x_test,y_train,y_test=train_test_split(x,y,random_state=0,test_size=0.2)"
   ]
  },
  {
   "cell_type": "code",
   "execution_count": 59,
   "id": "6cf2a197",
   "metadata": {},
   "outputs": [
    {
     "data": {
      "text/plain": [
       "(102, 20)"
      ]
     },
     "execution_count": 59,
     "metadata": {},
     "output_type": "execute_result"
    }
   ],
   "source": [
    "x_test.shape"
   ]
  },
  {
   "cell_type": "code",
   "execution_count": 60,
   "id": "1e45a3de",
   "metadata": {},
   "outputs": [
    {
     "data": {
      "text/plain": [
       "(404, 20)"
      ]
     },
     "execution_count": 60,
     "metadata": {},
     "output_type": "execute_result"
    }
   ],
   "source": [
    "x_train.shape"
   ]
  },
  {
   "cell_type": "markdown",
   "id": "8fcdb0c5",
   "metadata": {},
   "source": [
    "### Standardizing data"
   ]
  },
  {
   "cell_type": "code",
   "execution_count": 61,
   "id": "7f0f8684",
   "metadata": {},
   "outputs": [],
   "source": [
    "from sklearn.preprocessing import StandardScaler"
   ]
  },
  {
   "cell_type": "code",
   "execution_count": 63,
   "id": "63034570",
   "metadata": {},
   "outputs": [],
   "source": [
    "sc=StandardScaler().fit(x_train)"
   ]
  },
  {
   "cell_type": "code",
   "execution_count": 64,
   "id": "81ef2bbd",
   "metadata": {},
   "outputs": [],
   "source": [
    "x_train_std=sc.transform(x_train)"
   ]
  },
  {
   "cell_type": "code",
   "execution_count": 65,
   "id": "ceebab7e",
   "metadata": {},
   "outputs": [],
   "source": [
    "x_test_std=sc.transform(x_test)"
   ]
  },
  {
   "cell_type": "code",
   "execution_count": 66,
   "id": "9d5b118d",
   "metadata": {},
   "outputs": [
    {
     "data": {
      "text/plain": [
       "array([[-0.40835869, -1.12872913,  0.83336883, ...,  1.50268577,\n",
       "        -0.48525664, -0.75225758],\n",
       "       [ 0.71925111,  0.9988844 , -0.65283979, ...,  1.50268577,\n",
       "        -0.48525664, -0.75225758],\n",
       "       [-0.40257488,  0.39610829,  0.05115377, ...,  1.50268577,\n",
       "        -0.48525664, -0.75225758],\n",
       "       ...,\n",
       "       [-0.3982601 , -0.85812418,  0.89420778, ..., -0.66547513,\n",
       "        -0.48525664,  1.3293319 ],\n",
       "       [-0.39934279, -0.07637654,  0.58132175, ...,  1.50268577,\n",
       "        -0.48525664, -0.75225758],\n",
       "       [-0.40088071, -0.36702631,  0.31189212, ..., -0.66547513,\n",
       "        -0.48525664, -0.75225758]])"
      ]
     },
     "execution_count": 66,
     "metadata": {},
     "output_type": "execute_result"
    }
   ],
   "source": [
    "x_test_std"
   ]
  },
  {
   "cell_type": "markdown",
   "id": "fa9d3861",
   "metadata": {},
   "source": [
    "### Training SVM"
   ]
  },
  {
   "cell_type": "code",
   "execution_count": 67,
   "id": "636d04ae",
   "metadata": {},
   "outputs": [],
   "source": [
    "from sklearn import svm"
   ]
  },
  {
   "cell_type": "code",
   "execution_count": 68,
   "id": "03da6dba",
   "metadata": {},
   "outputs": [],
   "source": [
    "clf_svm_1=svm.SVC(kernel='linear',C=0.01)"
   ]
  },
  {
   "cell_type": "code",
   "execution_count": 69,
   "id": "a128c50b",
   "metadata": {},
   "outputs": [
    {
     "data": {
      "text/plain": [
       "SVC(C=0.01, kernel='linear')"
      ]
     },
     "execution_count": 69,
     "metadata": {},
     "output_type": "execute_result"
    }
   ],
   "source": [
    "clf_svm_1.fit(x_train_std,y_train)"
   ]
  },
  {
   "cell_type": "code",
   "execution_count": 70,
   "id": "71150a5d",
   "metadata": {},
   "outputs": [],
   "source": [
    "y_train_pred=clf_svm_1.predict(x_train_std)\n",
    "y_test_pred=clf_svm_1.predict(x_test_std)"
   ]
  },
  {
   "cell_type": "code",
   "execution_count": 72,
   "id": "65c5ed40",
   "metadata": {},
   "outputs": [
    {
     "data": {
      "text/plain": [
       "array([0, 1, 1, 1, 1, 1, 1, 1, 1, 1, 1, 1, 1, 1, 1, 1, 1, 1, 1, 1, 1, 1,\n",
       "       1, 1, 0, 1, 1, 1, 1, 0, 1, 1, 1, 1, 1, 1, 1, 1, 1, 1, 1, 1, 1, 1,\n",
       "       1, 1, 0, 1, 0, 1, 1, 1, 1, 1, 1, 1, 1, 1, 1, 1, 1, 1, 1, 1, 1, 1,\n",
       "       1, 1, 1, 1, 1, 1, 1, 1, 1, 1, 1, 1, 1, 0, 1, 1, 1, 1, 1, 1, 1, 1,\n",
       "       1, 1, 1, 1, 1, 1, 0, 1, 1, 1, 1, 1, 1, 1, 1, 0, 1, 1, 1, 1, 0, 1,\n",
       "       1, 1, 1, 1, 1, 1, 0, 1, 1, 1, 1, 1, 1, 1, 1, 1, 1, 1, 1, 1, 1, 1,\n",
       "       1, 1, 1, 1, 1, 1, 0, 1, 1, 0, 1, 1, 1, 1, 1, 1, 1, 1, 1, 1, 1, 1,\n",
       "       1, 1, 1, 1, 1, 1, 1, 1, 0, 1, 1, 1, 1, 1, 1, 1, 1, 1, 1, 1, 1, 1,\n",
       "       1, 1, 1, 1, 1, 1, 1, 0, 1, 1, 0, 1, 1, 1, 1, 1, 1, 1, 1, 1, 1, 1,\n",
       "       0, 1, 1, 1, 1, 1, 1, 1, 1, 1, 1, 1, 1, 1, 1, 1, 1, 1, 1, 1, 1, 1,\n",
       "       0, 1, 1, 1, 0, 0, 1, 1, 0, 1, 1, 1, 0, 1, 1, 1, 1, 1, 1, 1, 1, 1,\n",
       "       0, 1, 0, 1, 1, 1, 1, 1, 1, 1, 1, 0, 1, 1, 1, 1, 1, 1, 1, 1, 1, 1,\n",
       "       1, 1, 1, 1, 1, 0, 1, 1, 1, 1, 1, 1, 1, 1, 0, 1, 1, 1, 1, 1, 1, 1,\n",
       "       1, 1, 0, 1, 1, 1, 1, 1, 1, 1, 0, 1, 1, 1, 1, 1, 1, 1, 1, 1, 1, 1,\n",
       "       1, 1, 1, 1, 1, 1, 1, 1, 0, 1, 0, 1, 1, 0, 1, 1, 1, 1, 1, 1, 0, 1,\n",
       "       1, 1, 1, 1, 1, 1, 1, 1, 1, 1, 1, 1, 1, 1, 1, 1, 1, 1, 1, 1, 1, 1,\n",
       "       1, 1, 1, 1, 1, 1, 1, 1, 1, 1, 1, 1, 1, 1, 1, 1, 1, 1, 1, 1, 1, 1,\n",
       "       1, 1, 1, 1, 0, 1, 0, 0, 1, 1, 1, 1, 1, 0, 1, 0, 1, 0, 1, 1, 1, 1,\n",
       "       1, 1, 1, 1, 1, 0, 1, 1], dtype=int64)"
      ]
     },
     "execution_count": 72,
     "metadata": {},
     "output_type": "execute_result"
    }
   ],
   "source": [
    "y_train_pred"
   ]
  },
  {
   "cell_type": "markdown",
   "id": "9fc42429",
   "metadata": {},
   "source": [
    "#### Model performance"
   ]
  },
  {
   "cell_type": "code",
   "execution_count": 73,
   "id": "6b445a40",
   "metadata": {},
   "outputs": [],
   "source": [
    "from sklearn.metrics import accuracy_score,confusion_matrix"
   ]
  },
  {
   "cell_type": "code",
   "execution_count": 74,
   "id": "4beff8be",
   "metadata": {},
   "outputs": [
    {
     "data": {
      "text/plain": [
       "array([[11, 33],\n",
       "       [ 5, 53]], dtype=int64)"
      ]
     },
     "execution_count": 74,
     "metadata": {},
     "output_type": "execute_result"
    }
   ],
   "source": [
    "confusion_matrix(y_test,y_test_pred)"
   ]
  },
  {
   "cell_type": "code",
   "execution_count": 75,
   "id": "2b219b3d",
   "metadata": {},
   "outputs": [
    {
     "data": {
      "text/plain": [
       "0.6274509803921569"
      ]
     },
     "execution_count": 75,
     "metadata": {},
     "output_type": "execute_result"
    }
   ],
   "source": [
    "accuracy_score(y_test,y_test_pred)"
   ]
  },
  {
   "cell_type": "code",
   "execution_count": 76,
   "id": "98e1f1f5",
   "metadata": {},
   "outputs": [
    {
     "data": {
      "text/plain": [
       "array([186, 189])"
      ]
     },
     "execution_count": 76,
     "metadata": {},
     "output_type": "execute_result"
    }
   ],
   "source": [
    "clf_svm_1.n_support_"
   ]
  },
  {
   "cell_type": "markdown",
   "id": "8ba4f7e1",
   "metadata": {},
   "source": [
    "### Hyper parameter tuning"
   ]
  },
  {
   "cell_type": "code",
   "execution_count": 77,
   "id": "2873a2cb",
   "metadata": {},
   "outputs": [],
   "source": [
    "from sklearn.model_selection import GridSearchCV \n",
    "# To avoid changing C"
   ]
  },
  {
   "cell_type": "code",
   "execution_count": 95,
   "id": "22b6d0a2",
   "metadata": {},
   "outputs": [],
   "source": [
    "params={'C':(0.001,0.005,0.01,0.05,0.1,1,5,10,100,500,1000)}"
   ]
  },
  {
   "cell_type": "code",
   "execution_count": 96,
   "id": "410f1948",
   "metadata": {},
   "outputs": [],
   "source": [
    "clf_svm_1=svm.SVC(kernel='linear')"
   ]
  },
  {
   "cell_type": "code",
   "execution_count": 97,
   "id": "6e009061",
   "metadata": {},
   "outputs": [],
   "source": [
    "svm_grid_lin=GridSearchCV(clf_svm_1,params,n_jobs=-1, \n",
    "                         cv=10,verbose=1,scoring='accuracy')"
   ]
  },
  {
   "cell_type": "code",
   "execution_count": 98,
   "id": "71e45bad",
   "metadata": {},
   "outputs": [
    {
     "name": "stdout",
     "output_type": "stream",
     "text": [
      "Fitting 10 folds for each of 11 candidates, totalling 110 fits\n"
     ]
    },
    {
     "data": {
      "text/plain": [
       "GridSearchCV(cv=10, estimator=SVC(kernel='linear'), n_jobs=-1,\n",
       "             param_grid={'C': (0.001, 0.005, 0.01, 0.05, 0.1, 1, 5, 10, 100,\n",
       "                               500, 1000)},\n",
       "             scoring='accuracy', verbose=1)"
      ]
     },
     "execution_count": 98,
     "metadata": {},
     "output_type": "execute_result"
    }
   ],
   "source": [
    "svm_grid_lin.fit(x_train_std,y_train)"
   ]
  },
  {
   "cell_type": "code",
   "execution_count": 99,
   "id": "67b2bac6",
   "metadata": {},
   "outputs": [
    {
     "data": {
      "text/plain": [
       "{'C': 0.1}"
      ]
     },
     "execution_count": 99,
     "metadata": {},
     "output_type": "execute_result"
    }
   ],
   "source": [
    "svm_grid_lin.best_params_"
   ]
  },
  {
   "cell_type": "code",
   "execution_count": 100,
   "id": "251c6b42",
   "metadata": {},
   "outputs": [],
   "source": [
    "linsvm_clf=svm_grid_lin.best_estimator_"
   ]
  },
  {
   "cell_type": "code",
   "execution_count": 102,
   "id": "bd5829dd",
   "metadata": {},
   "outputs": [
    {
     "data": {
      "text/plain": [
       "0.5980392156862745"
      ]
     },
     "execution_count": 102,
     "metadata": {},
     "output_type": "execute_result"
    }
   ],
   "source": [
    "accuracy_score(y_test,linsvm_clf.predict(x_test_std))"
   ]
  },
  {
   "cell_type": "markdown",
   "id": "5d526c9b",
   "metadata": {},
   "source": [
    "### Polynomial"
   ]
  },
  {
   "cell_type": "code",
   "execution_count": 104,
   "id": "f50b6f53",
   "metadata": {},
   "outputs": [
    {
     "data": {
      "text/plain": [
       "SVC(C=0.1, degree=2, kernel='poly')"
      ]
     },
     "execution_count": 104,
     "metadata": {},
     "output_type": "execute_result"
    }
   ],
   "source": [
    "clf_svm_p3=svm.SVC(kernel='poly',degree=2,C=0.1)\n",
    "clf_svm_p3.fit(x_train_std,y_train)"
   ]
  },
  {
   "cell_type": "code",
   "execution_count": 105,
   "id": "d4146965",
   "metadata": {},
   "outputs": [],
   "source": [
    "y_train_pred=clf_svm_p3.predict(x_train_std)\n",
    "y_test_pred=clf_svm_p3.predict(x_test_std)"
   ]
  },
  {
   "cell_type": "code",
   "execution_count": 107,
   "id": "bf104a20",
   "metadata": {},
   "outputs": [
    {
     "data": {
      "text/plain": [
       "0.5588235294117647"
      ]
     },
     "execution_count": 107,
     "metadata": {},
     "output_type": "execute_result"
    }
   ],
   "source": [
    "accuracy_score(y_test,y_test_pred)"
   ]
  },
  {
   "cell_type": "code",
   "execution_count": 109,
   "id": "2e560a30",
   "metadata": {},
   "outputs": [
    {
     "data": {
      "text/plain": [
       "array([185, 194])"
      ]
     },
     "execution_count": 109,
     "metadata": {},
     "output_type": "execute_result"
    }
   ],
   "source": [
    "clf_svm_p3.n_support_"
   ]
  },
  {
   "cell_type": "markdown",
   "id": "278df064",
   "metadata": {},
   "source": [
    "### Radial Kernel"
   ]
  },
  {
   "cell_type": "code",
   "execution_count": 111,
   "id": "7b88d55a",
   "metadata": {},
   "outputs": [
    {
     "data": {
      "text/plain": [
       "SVC(C=10, gamma=0.5)"
      ]
     },
     "execution_count": 111,
     "metadata": {},
     "output_type": "execute_result"
    }
   ],
   "source": [
    "clf_svm_r=svm.SVC(kernel='rbf',gamma=0.5,C=10)\n",
    "clf_svm_r.fit(x_train_std,y_train)"
   ]
  },
  {
   "cell_type": "code",
   "execution_count": 112,
   "id": "61208840",
   "metadata": {},
   "outputs": [],
   "source": [
    "y_train_pred=clf_svm_r.predict(x_train_std)\n",
    "y_test_pred=clf_svm_r.predict(x_test_std)"
   ]
  },
  {
   "cell_type": "code",
   "execution_count": 113,
   "id": "a77b023d",
   "metadata": {},
   "outputs": [
    {
     "data": {
      "text/plain": [
       "0.6176470588235294"
      ]
     },
     "execution_count": 113,
     "metadata": {},
     "output_type": "execute_result"
    }
   ],
   "source": [
    "accuracy_score(y_test,y_test_pred)"
   ]
  },
  {
   "cell_type": "code",
   "execution_count": 115,
   "id": "57925a5b",
   "metadata": {},
   "outputs": [
    {
     "data": {
      "text/plain": [
       "array([186, 218])"
      ]
     },
     "execution_count": 115,
     "metadata": {},
     "output_type": "execute_result"
    }
   ],
   "source": [
    "clf_svm_r.n_support_"
   ]
  },
  {
   "cell_type": "markdown",
   "id": "a3ad1b43",
   "metadata": {},
   "source": [
    "### Radial Grid"
   ]
  },
  {
   "cell_type": "code",
   "execution_count": 116,
   "id": "963fcb8b",
   "metadata": {},
   "outputs": [],
   "source": [
    "params={'C':(0.01,0.05,0.1,0.5,1,5,10,50),'gamma':(0.001,0.01,0.1,0.5,1)}"
   ]
  },
  {
   "cell_type": "code",
   "execution_count": 117,
   "id": "4f284405",
   "metadata": {},
   "outputs": [],
   "source": [
    "clf_svm_r=svm.SVC(kernel='rbf')"
   ]
  },
  {
   "cell_type": "code",
   "execution_count": 118,
   "id": "97142368",
   "metadata": {},
   "outputs": [],
   "source": [
    "svm_grid_rad=GridSearchCV(clf_svm_r,params,n_jobs=-1,cv=3,verbose=1,scoring='accuracy')"
   ]
  },
  {
   "cell_type": "code",
   "execution_count": 120,
   "id": "5783ed52",
   "metadata": {},
   "outputs": [
    {
     "name": "stdout",
     "output_type": "stream",
     "text": [
      "Fitting 3 folds for each of 40 candidates, totalling 120 fits\n"
     ]
    },
    {
     "data": {
      "text/plain": [
       "GridSearchCV(cv=3, estimator=SVC(), n_jobs=-1,\n",
       "             param_grid={'C': (0.01, 0.05, 0.1, 0.5, 1, 5, 10, 50),\n",
       "                         'gamma': (0.001, 0.01, 0.1, 0.5, 1)},\n",
       "             scoring='accuracy', verbose=1)"
      ]
     },
     "execution_count": 120,
     "metadata": {},
     "output_type": "execute_result"
    }
   ],
   "source": [
    "svm_grid_rad.fit(x_train_std,y_train)"
   ]
  },
  {
   "cell_type": "code",
   "execution_count": 121,
   "id": "9d3da5cd",
   "metadata": {},
   "outputs": [
    {
     "data": {
      "text/plain": [
       "{'C': 50, 'gamma': 0.001}"
      ]
     },
     "execution_count": 121,
     "metadata": {},
     "output_type": "execute_result"
    }
   ],
   "source": [
    "svm_grid_rad.best_params_"
   ]
  },
  {
   "cell_type": "code",
   "execution_count": 122,
   "id": "57537e01",
   "metadata": {},
   "outputs": [],
   "source": [
    "radsvm_clf=svm_grid_rad.best_estimator_"
   ]
  },
  {
   "cell_type": "code",
   "execution_count": 123,
   "id": "e1af6adc",
   "metadata": {},
   "outputs": [
    {
     "data": {
      "text/plain": [
       "0.6176470588235294"
      ]
     },
     "execution_count": 123,
     "metadata": {},
     "output_type": "execute_result"
    }
   ],
   "source": [
    "accuracy_score(y_test,radsvm_clf.predict(x_test_std))"
   ]
  },
  {
   "cell_type": "code",
   "execution_count": null,
   "id": "02a37e19",
   "metadata": {},
   "outputs": [],
   "source": []
  }
 ],
 "metadata": {
  "kernelspec": {
   "display_name": "Python 3 (ipykernel)",
   "language": "python",
   "name": "python3"
  },
  "language_info": {
   "codemirror_mode": {
    "name": "ipython",
    "version": 3
   },
   "file_extension": ".py",
   "mimetype": "text/x-python",
   "name": "python",
   "nbconvert_exporter": "python",
   "pygments_lexer": "ipython3",
   "version": "3.9.7"
  }
 },
 "nbformat": 4,
 "nbformat_minor": 5
}
